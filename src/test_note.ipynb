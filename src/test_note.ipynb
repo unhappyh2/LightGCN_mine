{
 "cells": [
  {
   "cell_type": "code",
   "id": "initial_id",
   "metadata": {
    "collapsed": true,
    "ExecuteTime": {
     "end_time": "2024-11-14T07:59:47.179477Z",
     "start_time": "2024-11-14T07:59:47.176099Z"
    }
   },
   "source": [
    "import torch\n",
    "import numpy as np\n",
    "import os\n",
    "import pandas as pd"
   ],
   "outputs": [],
   "execution_count": 34
  },
  {
   "metadata": {
    "ExecuteTime": {
     "end_time": "2024-11-14T07:59:47.194911Z",
     "start_time": "2024-11-14T07:59:47.188295Z"
    }
   },
   "cell_type": "code",
   "source": "rating_file ='./data/ml-20m/'+'ratings.csv'",
   "id": "3440cbebeca39092",
   "outputs": [],
   "execution_count": 35
  },
  {
   "metadata": {
    "ExecuteTime": {
     "end_time": "2024-11-14T07:59:52.783083Z",
     "start_time": "2024-11-14T07:59:47.197094Z"
    }
   },
   "cell_type": "code",
   "source": "rating_pd = pd.read_csv(rating_file)",
   "id": "2b9845d309b53bd9",
   "outputs": [],
   "execution_count": 36
  },
  {
   "metadata": {
    "ExecuteTime": {
     "end_time": "2024-11-14T07:59:52.798316Z",
     "start_time": "2024-11-14T07:59:52.785204Z"
    }
   },
   "cell_type": "code",
   "source": "rating_pd.head()",
   "id": "1767406ba63fe6e0",
   "outputs": [
    {
     "data": {
      "text/plain": [
       "   userId  movieId  rating   timestamp\n",
       "0       1        2     3.5  1112486027\n",
       "1       1       29     3.5  1112484676\n",
       "2       1       32     3.5  1112484819\n",
       "3       1       47     3.5  1112484727\n",
       "4       1       50     3.5  1112484580"
      ],
      "text/html": [
       "<div>\n",
       "<style scoped>\n",
       "    .dataframe tbody tr th:only-of-type {\n",
       "        vertical-align: middle;\n",
       "    }\n",
       "\n",
       "    .dataframe tbody tr th {\n",
       "        vertical-align: top;\n",
       "    }\n",
       "\n",
       "    .dataframe thead th {\n",
       "        text-align: right;\n",
       "    }\n",
       "</style>\n",
       "<table border=\"1\" class=\"dataframe\">\n",
       "  <thead>\n",
       "    <tr style=\"text-align: right;\">\n",
       "      <th></th>\n",
       "      <th>userId</th>\n",
       "      <th>movieId</th>\n",
       "      <th>rating</th>\n",
       "      <th>timestamp</th>\n",
       "    </tr>\n",
       "  </thead>\n",
       "  <tbody>\n",
       "    <tr>\n",
       "      <th>0</th>\n",
       "      <td>1</td>\n",
       "      <td>2</td>\n",
       "      <td>3.5</td>\n",
       "      <td>1112486027</td>\n",
       "    </tr>\n",
       "    <tr>\n",
       "      <th>1</th>\n",
       "      <td>1</td>\n",
       "      <td>29</td>\n",
       "      <td>3.5</td>\n",
       "      <td>1112484676</td>\n",
       "    </tr>\n",
       "    <tr>\n",
       "      <th>2</th>\n",
       "      <td>1</td>\n",
       "      <td>32</td>\n",
       "      <td>3.5</td>\n",
       "      <td>1112484819</td>\n",
       "    </tr>\n",
       "    <tr>\n",
       "      <th>3</th>\n",
       "      <td>1</td>\n",
       "      <td>47</td>\n",
       "      <td>3.5</td>\n",
       "      <td>1112484727</td>\n",
       "    </tr>\n",
       "    <tr>\n",
       "      <th>4</th>\n",
       "      <td>1</td>\n",
       "      <td>50</td>\n",
       "      <td>3.5</td>\n",
       "      <td>1112484580</td>\n",
       "    </tr>\n",
       "  </tbody>\n",
       "</table>\n",
       "</div>"
      ]
     },
     "execution_count": 37,
     "metadata": {},
     "output_type": "execute_result"
    }
   ],
   "execution_count": 37
  },
  {
   "metadata": {
    "ExecuteTime": {
     "end_time": "2024-11-14T08:00:35.068221Z",
     "start_time": "2024-11-14T07:59:52.801608Z"
    }
   },
   "cell_type": "code",
   "source": "rating_pd .to_csv('./data/ratings.txt', sep='\\t', index=False, header=False)",
   "id": "af5f74616ad6c8d3",
   "outputs": [],
   "execution_count": 38
  },
  {
   "metadata": {
    "ExecuteTime": {
     "end_time": "2024-11-14T08:21:21.333900Z",
     "start_time": "2024-11-14T08:20:58.100698Z"
    }
   },
   "cell_type": "code",
   "source": "rating_np = np.loadtxt('./data/ratings.txt', delimiter='\\t',dtype=np.int64)",
   "id": "1fae4eee4d8c6381",
   "outputs": [
    {
     "name": "stderr",
     "output_type": "stream",
     "text": [
      "C:\\Users\\24717\\AppData\\Local\\Temp\\ipykernel_23168\\3252501746.py:1: DeprecationWarning: loadtxt(): Parsing an integer via a float is deprecated.  To avoid this warning, you can:\n",
      "    * make sure the original data is stored as integers.\n",
      "    * use the `converters=` keyword argument.  If you only use\n",
      "      NumPy 1.23 or later, `converters=float` will normally work.\n",
      "    * Use `np.loadtxt(...).astype(np.int64)` parsing the file as\n",
      "      floating point and then convert it.  (On all NumPy versions.)\n",
      "  (Deprecated NumPy 1.23)\n",
      "  rating_np = np.loadtxt('./data/ratings.txt', delimiter='\\t',dtype=np.int64)\n"
     ]
    }
   ],
   "execution_count": 54
  },
  {
   "metadata": {
    "ExecuteTime": {
     "end_time": "2024-11-14T10:00:50.847973Z",
     "start_time": "2024-11-14T10:00:50.832189Z"
    }
   },
   "cell_type": "code",
   "source": "print(rating_np[:40])",
   "id": "fd42024fa377b0be",
   "outputs": [
    {
     "name": "stdout",
     "output_type": "stream",
     "text": [
      "[[         1          2          3 1112486027]\n",
      " [         1         29          3 1112484676]\n",
      " [         1         32          3 1112484819]\n",
      " [         1         47          3 1112484727]\n",
      " [         1         50          3 1112484580]\n",
      " [         1        112          3 1094785740]\n",
      " [         1        151          4 1094785734]\n",
      " [         1        223          4 1112485573]\n",
      " [         1        253          4 1112484940]\n",
      " [         1        260          4 1112484826]\n",
      " [         1        293          4 1112484703]\n",
      " [         1        296          4 1112484767]\n",
      " [         1        318          4 1112484798]\n",
      " [         1        337          3 1094785709]\n",
      " [         1        367          3 1112485980]\n",
      " [         1        541          4 1112484603]\n",
      " [         1        589          3 1112485557]\n",
      " [         1        593          3 1112484661]\n",
      " [         1        653          3 1094785691]\n",
      " [         1        919          3 1094785621]\n",
      " [         1        924          3 1094785598]\n",
      " [         1       1009          3 1112486013]\n",
      " [         1       1036          4 1112485480]\n",
      " [         1       1079          4 1094785665]\n",
      " [         1       1080          3 1112485375]\n",
      " [         1       1089          3 1112484669]\n",
      " [         1       1090          4 1112485453]\n",
      " [         1       1097          4 1112485701]\n",
      " [         1       1136          3 1112484609]\n",
      " [         1       1193          3 1112484690]\n",
      " [         1       1196          4 1112484742]\n",
      " [         1       1198          4 1112484624]\n",
      " [         1       1200          4 1112484560]\n",
      " [         1       1201          3 1112484642]\n",
      " [         1       1208          3 1112484815]\n",
      " [         1       1214          4 1094785977]\n",
      " [         1       1215          4 1094786082]\n",
      " [         1       1217          3 1112484810]\n",
      " [         1       1219          4 1094785994]\n",
      " [         1       1222          3 1112484637]]\n"
     ]
    }
   ],
   "execution_count": 97
  },
  {
   "metadata": {
    "ExecuteTime": {
     "end_time": "2024-11-14T08:32:10.022629Z",
     "start_time": "2024-11-14T08:32:10.002928Z"
    }
   },
   "cell_type": "code",
   "source": [
    "def classify_ratings(data):\n",
    "    # 将数据转换为DataFrame以便于处理\n",
    "    df = pd.DataFrame(data, columns=['UserID', 'MovieID', 'Rating', 'Timestamp'])\n",
    "\n",
    "    # 计算每个用户的平均评分\n",
    "    user_avg_ratings = df.groupby('UserID')['Rating'].mean().to_dict()\n",
    "\n",
    "    # 初始化正样本和负样本列表\n",
    "    positive_samples = []\n",
    "    negative_samples = []\n",
    "\n",
    "    # 遍历数据，分类正负样本\n",
    "    for index, row in df.iterrows():\n",
    "        user_id = row['UserID']\n",
    "        rating = row['Rating']\n",
    "        avg_rating = user_avg_ratings[user_id]\n",
    "\n",
    "        # 判断是正样本还是负样本\n",
    "        if rating > avg_rating:\n",
    "            positive_samples.append([user_id, row['MovieID'], rating, row['Timestamp']])\n",
    "        else:\n",
    "            negative_samples.append([user_id, row['MovieID'], rating, row['Timestamp']])\n",
    "\n",
    "    return positive_samples, negative_samples"
   ],
   "id": "c6951b5e5de603a5",
   "outputs": [],
   "execution_count": 60
  },
  {
   "metadata": {
    "ExecuteTime": {
     "end_time": "2024-11-14T08:49:50.388364Z",
     "start_time": "2024-11-14T08:32:41.152787Z"
    }
   },
   "cell_type": "code",
   "source": "positive_samples, negative_samples = classify_ratings(rating_np)",
   "id": "bd482790db980fe",
   "outputs": [],
   "execution_count": 61
  },
  {
   "metadata": {
    "ExecuteTime": {
     "end_time": "2024-11-14T10:07:34.807630Z",
     "start_time": "2024-11-14T10:07:24.847222Z"
    }
   },
   "cell_type": "code",
   "source": [
    "max_user_id = max(rating[0] for rating in rating_np)\n",
    "max_movie_id = max(rating[1] for rating in rating_np)"
   ],
   "id": "adf186a5da4de094",
   "outputs": [],
   "execution_count": 101
  },
  {
   "metadata": {
    "ExecuteTime": {
     "end_time": "2024-11-14T08:53:44.194664Z",
     "start_time": "2024-11-14T08:53:44.178642Z"
    }
   },
   "cell_type": "code",
   "source": "print(max_user_id, max_movie_id)",
   "id": "3a4c8639925ddb3a",
   "outputs": [
    {
     "name": "stdout",
     "output_type": "stream",
     "text": [
      "138493 131262\n"
     ]
    }
   ],
   "execution_count": 64
  },
  {
   "metadata": {
    "ExecuteTime": {
     "end_time": "2024-11-14T08:54:20.724993Z",
     "start_time": "2024-11-14T08:54:20.712994Z"
    }
   },
   "cell_type": "code",
   "source": "print(rating_np.shape)",
   "id": "fe0e6e2e2b7a11d",
   "outputs": [
    {
     "name": "stdout",
     "output_type": "stream",
     "text": [
      "(20000263, 4)\n"
     ]
    }
   ],
   "execution_count": 66
  },
  {
   "metadata": {
    "ExecuteTime": {
     "end_time": "2024-11-14T09:00:30.352903Z",
     "start_time": "2024-11-14T09:00:30.347751Z"
    }
   },
   "cell_type": "code",
   "source": [
    "num_users = max_user_id \n",
    "num_movies = max_movie_id \n",
    "embedding_dim = 50  # 嵌入向量的维度为50"
   ],
   "id": "f681f97d21661ed9",
   "outputs": [],
   "execution_count": 72
  },
  {
   "metadata": {
    "ExecuteTime": {
     "end_time": "2024-11-14T09:00:30.832942Z",
     "start_time": "2024-11-14T09:00:30.817262Z"
    }
   },
   "cell_type": "code",
   "source": [
    "def initialize_embeddings(num_users, num_movies, embedding_dim, seed=42):\n",
    "    \"\"\"\n",
    "    初始化用户和电影的嵌入向量。\n",
    "    \n",
    "    参数:\n",
    "    num_users (int): 用户数量。\n",
    "    num_movies (int): 电影数量。\n",
    "    embedding_dim (int): 嵌入向量的维度。\n",
    "    seed (int): 随机种子，用于复现结果。\n",
    "    \n",
    "    返回:\n",
    "    user_embeddings (numpy.ndarray): 用户嵌入向量。\n",
    "    movie_embeddings (numpy.ndarray): 电影嵌入向量。\n",
    "    \"\"\"\n",
    "    np.random.seed(seed)  # 设置随机种子\n",
    "    # 使用正态分布初始化用户嵌入向量\n",
    "    user_embeddings = np.random.normal(scale=0.1, size=(num_users, embedding_dim))\n",
    "    \n",
    "    # 使用正态分布初始化电影嵌入向量\n",
    "    movie_embeddings = np.random.normal(scale=0.1, size=(num_movies, embedding_dim))\n",
    "    \n",
    "    return user_embeddings, movie_embeddings\n"
   ],
   "id": "7d1dad45c296a424",
   "outputs": [],
   "execution_count": 73
  },
  {
   "metadata": {
    "ExecuteTime": {
     "end_time": "2024-11-14T09:00:31.728200Z",
     "start_time": "2024-11-14T09:00:31.412890Z"
    }
   },
   "cell_type": "code",
   "source": "user_embeddings, movie_embeddings = initialize_embeddings(num_users, num_movies, embedding_dim)",
   "id": "358bd229f045dcee",
   "outputs": [],
   "execution_count": 74
  },
  {
   "metadata": {
    "ExecuteTime": {
     "end_time": "2024-11-14T09:00:31.866911Z",
     "start_time": "2024-11-14T09:00:31.852827Z"
    }
   },
   "cell_type": "code",
   "source": [
    "print(\"User Embeddings Shape:\", user_embeddings.shape)\n",
    "print(\"Movie Embeddings Shape:\", movie_embeddings.shape)"
   ],
   "id": "bbc4ad7646eec1f6",
   "outputs": [
    {
     "name": "stdout",
     "output_type": "stream",
     "text": [
      "User Embeddings Shape: (138493, 50)\n",
      "Movie Embeddings Shape: (131262, 50)\n"
     ]
    }
   ],
   "execution_count": 75
  },
  {
   "metadata": {
    "ExecuteTime": {
     "end_time": "2024-11-14T09:04:24.129991Z",
     "start_time": "2024-11-14T09:04:24.122767Z"
    }
   },
   "cell_type": "code",
   "source": "print(user_embeddings[0])",
   "id": "2b41f6dc5930fb77",
   "outputs": [
    {
     "name": "stdout",
     "output_type": "stream",
     "text": [
      "[ 0.04967142 -0.01382643  0.06476885  0.15230299 -0.02341534 -0.0234137\n",
      "  0.15792128  0.07674347 -0.04694744  0.054256   -0.04634177 -0.04657298\n",
      "  0.02419623 -0.19132802 -0.17249178 -0.05622875 -0.10128311  0.03142473\n",
      " -0.09080241 -0.14123037  0.14656488 -0.02257763  0.00675282 -0.14247482\n",
      " -0.05443827  0.01109226 -0.11509936  0.0375698  -0.06006387 -0.02916937\n",
      " -0.06017066  0.18522782 -0.00134972 -0.10577109  0.08225449 -0.12208436\n",
      "  0.02088636 -0.19596701 -0.1328186   0.01968612  0.07384666  0.01713683\n",
      " -0.01156483 -0.03011037 -0.1478522  -0.07198442 -0.04606388  0.10571222\n",
      "  0.03436183 -0.17630402]\n"
     ]
    }
   ],
   "execution_count": 79
  },
  {
   "metadata": {
    "ExecuteTime": {
     "end_time": "2024-11-14T09:12:45.683334Z",
     "start_time": "2024-11-14T09:12:45.675148Z"
    }
   },
   "cell_type": "code",
   "source": [
    "########################################划分数据集#####################################\n",
    "def dataset_split(rating_np, ratio):\n",
    "    print('splitting dataset ...')\n",
    "\n",
    "    # train:eval:test = 6:2:2\n",
    "    eval_ratio = 0.2\n",
    "    test_ratio = 0.2\n",
    "    n_ratings = rating_np.shape[0]\n",
    "\n",
    "    eval_indices = np.random.choice(list(range(n_ratings)), size=int(n_ratings * eval_ratio), replace=False)\n",
    "    left = set(range(n_ratings)) - set(eval_indices)\n",
    "    test_indices = np.random.choice(list(left), size=int(n_ratings * test_ratio), replace=False)\n",
    "    train_indices = list(left - set(test_indices))\n",
    "    if ratio < 1:\n",
    "        train_indices = np.random.choice(list(train_indices), size=int(len(train_indices) * ratio), replace=False)\n",
    "\n",
    "    train_data = rating_np[train_indices]\n",
    "    eval_data = rating_np[eval_indices]\n",
    "    test_data = rating_np[test_indices]\n",
    "\n",
    "    return train_data, eval_data, test_data"
   ],
   "id": "833e4f64a919b384",
   "outputs": [],
   "execution_count": 87
  },
  {
   "metadata": {
    "ExecuteTime": {
     "end_time": "2024-11-14T09:15:54.873043Z",
     "start_time": "2024-11-14T09:15:41.753476Z"
    }
   },
   "cell_type": "code",
   "source": [
    "ratio = 0.8\n",
    "train_data, eval_data, test_data = dataset_split(rating_np, ratio)"
   ],
   "id": "d19d70cf789481dd",
   "outputs": [
    {
     "name": "stdout",
     "output_type": "stream",
     "text": [
      "splitting dataset ...\n"
     ]
    }
   ],
   "execution_count": 89
  },
  {
   "metadata": {
    "ExecuteTime": {
     "end_time": "2024-11-14T09:17:15.716944Z",
     "start_time": "2024-11-14T09:17:10.714674Z"
    }
   },
   "cell_type": "code",
   "source": [
    "max_user_id = max(rating[0] for rating in train_data)\n",
    "max_movie_id = max(rating[1] for rating in train_data)"
   ],
   "id": "3bd7e104e97ffaec",
   "outputs": [],
   "execution_count": 90
  },
  {
   "metadata": {
    "ExecuteTime": {
     "end_time": "2024-11-14T09:20:03.688952Z",
     "start_time": "2024-11-14T09:20:03.669638Z"
    }
   },
   "cell_type": "code",
   "source": "print(train_data.shape)",
   "id": "9a8d15a1652bf6ec",
   "outputs": [
    {
     "name": "stdout",
     "output_type": "stream",
     "text": [
      "(9600127, 4)\n"
     ]
    }
   ],
   "execution_count": 92
  },
  {
   "metadata": {
    "ExecuteTime": {
     "end_time": "2024-11-14T10:05:24.411106Z",
     "start_time": "2024-11-14T10:05:24.386223Z"
    }
   },
   "cell_type": "code",
   "source": "",
   "id": "7cab11ed6341fa69",
   "outputs": [
    {
     "name": "stdout",
     "output_type": "stream",
     "text": [
      "[     81462       4831          0 1092110978]\n"
     ]
    }
   ],
   "execution_count": 100
  },
  {
   "metadata": {
    "ExecuteTime": {
     "end_time": "2024-11-14T10:13:11.314487Z",
     "start_time": "2024-11-14T10:13:05.946731Z"
    }
   },
   "cell_type": "code",
   "source": "np.save('./data/data_mid/positive_samples.npy', positive_samples)",
   "id": "f204a4e57536b9d5",
   "outputs": [],
   "execution_count": 105
  },
  {
   "metadata": {
    "ExecuteTime": {
     "end_time": "2024-11-14T10:14:14.514516Z",
     "start_time": "2024-11-14T10:14:09.702171Z"
    }
   },
   "cell_type": "code",
   "source": "np.save('negative_samples.npy', negative_samples)",
   "id": "6052709c52861237",
   "outputs": [],
   "execution_count": 106
  },
  {
   "metadata": {
    "ExecuteTime": {
     "end_time": "2024-11-14T10:14:57.767226Z",
     "start_time": "2024-11-14T10:14:57.735561Z"
    }
   },
   "cell_type": "code",
   "source": "print(train_data.shape)",
   "id": "fda5607c4a037d60",
   "outputs": [
    {
     "name": "stdout",
     "output_type": "stream",
     "text": [
      "(9600127, 4)\n"
     ]
    }
   ],
   "execution_count": 107
  },
  {
   "metadata": {},
   "cell_type": "code",
   "outputs": [],
   "execution_count": null,
   "source": "",
   "id": "c6a2640e81c8b953"
  }
 ],
 "metadata": {
  "kernelspec": {
   "display_name": "Python 3",
   "language": "python",
   "name": "python3"
  },
  "language_info": {
   "codemirror_mode": {
    "name": "ipython",
    "version": 2
   },
   "file_extension": ".py",
   "mimetype": "text/x-python",
   "name": "python",
   "nbconvert_exporter": "python",
   "pygments_lexer": "ipython2",
   "version": "2.7.6"
  }
 },
 "nbformat": 4,
 "nbformat_minor": 5
}
