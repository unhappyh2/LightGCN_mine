{
 "cells": [
  {
   "cell_type": "code",
   "id": "initial_id",
   "metadata": {
    "collapsed": true,
    "ExecuteTime": {
     "end_time": "2024-11-18T02:23:25.288801Z",
     "start_time": "2024-11-18T02:23:24.459302Z"
    }
   },
   "source": [
    "import numpy as np\n",
    "import pandas as pd"
   ],
   "outputs": [],
   "execution_count": 1
  },
  {
   "metadata": {
    "ExecuteTime": {
     "end_time": "2024-11-18T02:23:25.296475Z",
     "start_time": "2024-11-18T02:23:25.291101Z"
    }
   },
   "cell_type": "code",
   "source": "rating_file ='../data/ml-20m/'+'ratings.csv'",
   "id": "12c4cc5f85ccaa03",
   "outputs": [],
   "execution_count": 2
  },
  {
   "metadata": {
    "ExecuteTime": {
     "end_time": "2024-11-18T02:23:30.789994Z",
     "start_time": "2024-11-18T02:23:25.297580Z"
    }
   },
   "cell_type": "code",
   "source": [
    "rating_pd = pd.read_csv(rating_file)\n",
    "rating_pd.head()"
   ],
   "id": "50b29316513d166d",
   "outputs": [
    {
     "data": {
      "text/plain": [
       "   userId  movieId  rating   timestamp\n",
       "0       1        2     3.5  1112486027\n",
       "1       1       29     3.5  1112484676\n",
       "2       1       32     3.5  1112484819\n",
       "3       1       47     3.5  1112484727\n",
       "4       1       50     3.5  1112484580"
      ],
      "text/html": [
       "<div>\n",
       "<style scoped>\n",
       "    .dataframe tbody tr th:only-of-type {\n",
       "        vertical-align: middle;\n",
       "    }\n",
       "\n",
       "    .dataframe tbody tr th {\n",
       "        vertical-align: top;\n",
       "    }\n",
       "\n",
       "    .dataframe thead th {\n",
       "        text-align: right;\n",
       "    }\n",
       "</style>\n",
       "<table border=\"1\" class=\"dataframe\">\n",
       "  <thead>\n",
       "    <tr style=\"text-align: right;\">\n",
       "      <th></th>\n",
       "      <th>userId</th>\n",
       "      <th>movieId</th>\n",
       "      <th>rating</th>\n",
       "      <th>timestamp</th>\n",
       "    </tr>\n",
       "  </thead>\n",
       "  <tbody>\n",
       "    <tr>\n",
       "      <th>0</th>\n",
       "      <td>1</td>\n",
       "      <td>2</td>\n",
       "      <td>3.5</td>\n",
       "      <td>1112486027</td>\n",
       "    </tr>\n",
       "    <tr>\n",
       "      <th>1</th>\n",
       "      <td>1</td>\n",
       "      <td>29</td>\n",
       "      <td>3.5</td>\n",
       "      <td>1112484676</td>\n",
       "    </tr>\n",
       "    <tr>\n",
       "      <th>2</th>\n",
       "      <td>1</td>\n",
       "      <td>32</td>\n",
       "      <td>3.5</td>\n",
       "      <td>1112484819</td>\n",
       "    </tr>\n",
       "    <tr>\n",
       "      <th>3</th>\n",
       "      <td>1</td>\n",
       "      <td>47</td>\n",
       "      <td>3.5</td>\n",
       "      <td>1112484727</td>\n",
       "    </tr>\n",
       "    <tr>\n",
       "      <th>4</th>\n",
       "      <td>1</td>\n",
       "      <td>50</td>\n",
       "      <td>3.5</td>\n",
       "      <td>1112484580</td>\n",
       "    </tr>\n",
       "  </tbody>\n",
       "</table>\n",
       "</div>"
      ]
     },
     "execution_count": 3,
     "metadata": {},
     "output_type": "execute_result"
    }
   ],
   "execution_count": 3
  },
  {
   "metadata": {
    "ExecuteTime": {
     "end_time": "2024-11-18T02:24:14.635383Z",
     "start_time": "2024-11-18T02:23:30.789994Z"
    }
   },
   "cell_type": "code",
   "source": "rating_pd .to_csv('../data/ratings.txt', sep='\\t', index=False, header=False)",
   "id": "e57235781c47a484",
   "outputs": [],
   "execution_count": 4
  },
  {
   "metadata": {
    "ExecuteTime": {
     "end_time": "2024-11-18T02:24:38.251533Z",
     "start_time": "2024-11-18T02:24:14.639152Z"
    }
   },
   "cell_type": "code",
   "source": "rating_np = np.loadtxt('../data/ratings.txt', delimiter='\\t',dtype=np.int64)",
   "id": "86bf17fdb3255e1e",
   "outputs": [
    {
     "name": "stderr",
     "output_type": "stream",
     "text": [
      "C:\\Users\\24717\\AppData\\Local\\Temp\\ipykernel_16252\\2709960758.py:1: DeprecationWarning: loadtxt(): Parsing an integer via a float is deprecated.  To avoid this warning, you can:\n",
      "    * make sure the original data is stored as integers.\n",
      "    * use the `converters=` keyword argument.  If you only use\n",
      "      NumPy 1.23 or later, `converters=float` will normally work.\n",
      "    * Use `np.loadtxt(...).astype(np.int64)` parsing the file as\n",
      "      floating point and then convert it.  (On all NumPy versions.)\n",
      "  (Deprecated NumPy 1.23)\n",
      "  rating_np = np.loadtxt('../data/ratings.txt', delimiter='\\t',dtype=np.int64)\n"
     ]
    }
   ],
   "execution_count": 5
  },
  {
   "metadata": {
    "ExecuteTime": {
     "end_time": "2024-11-18T02:24:38.267131Z",
     "start_time": "2024-11-18T02:24:38.252534Z"
    }
   },
   "cell_type": "code",
   "source": "print(rating_np[:10])",
   "id": "c050d6eb38dda823",
   "outputs": [
    {
     "name": "stdout",
     "output_type": "stream",
     "text": [
      "[[         1          2          3 1112486027]\n",
      " [         1         29          3 1112484676]\n",
      " [         1         32          3 1112484819]\n",
      " [         1         47          3 1112484727]\n",
      " [         1         50          3 1112484580]\n",
      " [         1        112          3 1094785740]\n",
      " [         1        151          4 1094785734]\n",
      " [         1        223          4 1112485573]\n",
      " [         1        253          4 1112484940]\n",
      " [         1        260          4 1112484826]]\n"
     ]
    }
   ],
   "execution_count": 6
  },
  {
   "metadata": {
    "ExecuteTime": {
     "end_time": "2024-11-18T02:24:38.284076Z",
     "start_time": "2024-11-18T02:24:38.270468Z"
    }
   },
   "cell_type": "code",
   "source": [
    "###定义一个分离正负样本的函数，平均评分为分界线\n",
    "def classify_ratings(data):\n",
    "    # 将数据转换为DataFrame以便于处理\n",
    "    df = pd.DataFrame(data, columns=['UserID', 'MovieID', 'Rating', 'Timestamp'])\n",
    "\n",
    "    # 计算每个用户的平均评分\n",
    "    user_avg_ratings = df.groupby('UserID')['Rating'].mean().to_dict()\n",
    "\n",
    "    # 初始化正样本和负样本列表\n",
    "    positive_samples = []\n",
    "    negative_samples = []\n",
    "\n",
    "    # 遍历数据，分类正负样本\n",
    "    for index, row in df.iterrows():\n",
    "        user_id = row['UserID']\n",
    "        rating = row['Rating']\n",
    "        avg_rating = user_avg_ratings[user_id]\n",
    "\n",
    "        # 判断是正样本还是负样本\n",
    "        if rating > avg_rating:\n",
    "            positive_samples.append([user_id, row['MovieID'], rating, row['Timestamp']])\n",
    "        else:\n",
    "            negative_samples.append([user_id, row['MovieID'], rating, row['Timestamp']])\n",
    "\n",
    "    return positive_samples, negative_samples"
   ],
   "id": "984e5d0cfe3edef9",
   "outputs": [],
   "execution_count": 7
  },
  {
   "metadata": {
    "ExecuteTime": {
     "end_time": "2024-11-18T02:24:38.302199Z",
     "start_time": "2024-11-18T02:24:38.287467Z"
    }
   },
   "cell_type": "code",
   "source": [
    "#positive_samples, negative_samples = classify_ratings(rating_np)\n",
    "#np.save('../data/data_mid/positive_samples.npy', positive_samples)\n",
    "#np.save('../data/data_mid/negative_samples.npy', negative_samples)\n",
    "###保存正负数据"
   ],
   "id": "cbbe5200da6e85f7",
   "outputs": [],
   "execution_count": 8
  },
  {
   "metadata": {
    "ExecuteTime": {
     "end_time": "2024-11-18T02:24:38.317763Z",
     "start_time": "2024-11-18T02:24:38.303982Z"
    }
   },
   "cell_type": "code",
   "source": [
    "########################################划分数据集#####################################\n",
    "def dataset_split(rating_np, ratio):\n",
    "    print('splitting dataset ...')\n",
    "\n",
    "    # train:eval:test = 6:2:2\n",
    "    eval_ratio = 0.2\n",
    "    test_ratio = 0.2\n",
    "    n_ratings = rating_np.shape[0]\n",
    "\n",
    "    eval_indices = np.random.choice(list(range(n_ratings)), size=int(n_ratings * eval_ratio), replace=False)\n",
    "    left = set(range(n_ratings)) - set(eval_indices)\n",
    "    test_indices = np.random.choice(list(left), size=int(n_ratings * test_ratio), replace=False)\n",
    "    train_indices = list(left - set(test_indices))\n",
    "    if ratio < 1:\n",
    "        train_indices = np.random.choice(list(train_indices), size=int(len(train_indices) * ratio), replace=False)\n",
    "\n",
    "    train_data = rating_np[train_indices]\n",
    "    eval_data = rating_np[eval_indices]\n",
    "    test_data = rating_np[test_indices]\n",
    "\n",
    "    return train_data, eval_data, test_data"
   ],
   "id": "6d9c85808bac86ba",
   "outputs": [],
   "execution_count": 9
  },
  {
   "metadata": {
    "ExecuteTime": {
     "end_time": "2024-11-18T02:24:52.034181Z",
     "start_time": "2024-11-18T02:24:38.320290Z"
    }
   },
   "cell_type": "code",
   "source": [
    "ratio = 0.8\n",
    "train_data, eval_data, test_data = dataset_split(rating_np, ratio)"
   ],
   "id": "660c0f8a1e43137a",
   "outputs": [
    {
     "name": "stdout",
     "output_type": "stream",
     "text": [
      "splitting dataset ...\n"
     ]
    }
   ],
   "execution_count": 10
  },
  {
   "metadata": {
    "ExecuteTime": {
     "end_time": "2024-11-18T02:24:52.533120Z",
     "start_time": "2024-11-18T02:24:52.037165Z"
    }
   },
   "cell_type": "code",
   "source": [
    "np.save('../data/data_mid/train_data.npy', train_data)\n",
    "np.save('../data/data_mid/eval_data.npy', eval_data)\n",
    "np.save('../data/data_mid/test_data.npy', test_data)"
   ],
   "id": "3047e29115a0011b",
   "outputs": [],
   "execution_count": 11
  },
  {
   "metadata": {
    "ExecuteTime": {
     "end_time": "2024-11-18T02:24:57.465117Z",
     "start_time": "2024-11-18T02:24:52.535187Z"
    }
   },
   "cell_type": "code",
   "source": [
    "n_user = max(rating[0] for rating in train_data)\n",
    "n_movie = max(rating[1] for rating in train_data)\n",
    "print(train_data.shape)\n",
    "print(n_user)       ##138493\n",
    "print(n_movie)      ##131262"
   ],
   "id": "a483010bc24775ef",
   "outputs": [
    {
     "name": "stdout",
     "output_type": "stream",
     "text": [
      "(9600127, 4)\n",
      "138493\n",
      "131262\n"
     ]
    }
   ],
   "execution_count": 12
  },
  {
   "metadata": {
    "ExecuteTime": {
     "end_time": "2024-11-18T02:24:57.484111Z",
     "start_time": "2024-11-18T02:24:57.467132Z"
    }
   },
   "cell_type": "code",
   "source": [
    "###随机初始化向量函数\n",
    "def initialize_embeddings(num_users, num_movies, num_adj , embedding_dim, seed=42):\n",
    "    \"\"\"\n",
    "    初始化用户和电影的嵌入向量。\n",
    "    \n",
    "    参数:\n",
    "    num_users (int): 用户数量。\n",
    "    num_movies (int): 电影数量。\n",
    "    embedding_dim (int): 嵌入向量的维度。\n",
    "    seed (int): 随机种子，用于复现结果。\n",
    "    \n",
    "    返回:\n",
    "    user_embeddings (numpy.ndarray): 用户嵌入向量。\n",
    "    movie_embeddings (numpy.ndarray): 电影嵌入向量。\n",
    "    \"\"\"\n",
    "    np.random.seed(seed)  # 设置随机种子\n",
    "    # 使用正态分布初始化用户嵌入向量\n",
    "    user_embeddings = np.random.normal(scale=0.1, size=(num_users, embedding_dim))\n",
    "    adj_embeddings = np.random.normal(scale=0.1, size=(num_adj, embedding_dim))\n",
    "    # 使用正态分布初始化电影嵌入向量\n",
    "    movie_embeddings = np.random.normal(scale=0.1, size=(num_movies, embedding_dim))\n",
    "    \n",
    "    return user_embeddings, movie_embeddings , adj_embeddings"
   ],
   "id": "57a6f134a3bbd3bb",
   "outputs": [],
   "execution_count": 13
  },
  {
   "metadata": {
    "ExecuteTime": {
     "end_time": "2024-11-18T02:24:57.502947Z",
     "start_time": "2024-11-18T02:24:57.489134Z"
    }
   },
   "cell_type": "code",
   "source": "genres_file ='../data/ml-20m/'+'movies.csv'",
   "id": "afcbb640bb736cb9",
   "outputs": [],
   "execution_count": 14
  },
  {
   "metadata": {
    "ExecuteTime": {
     "end_time": "2024-11-18T02:24:57.551141Z",
     "start_time": "2024-11-18T02:24:57.502947Z"
    }
   },
   "cell_type": "code",
   "source": [
    "genres = pd.read_csv(genres_file)\n",
    "genres.head()"
   ],
   "id": "fcdfdb0640fbed47",
   "outputs": [
    {
     "data": {
      "text/plain": [
       "   movieId                               title  \\\n",
       "0        1                    Toy Story (1995)   \n",
       "1        2                      Jumanji (1995)   \n",
       "2        3             Grumpier Old Men (1995)   \n",
       "3        4            Waiting to Exhale (1995)   \n",
       "4        5  Father of the Bride Part II (1995)   \n",
       "\n",
       "                                        genres  \n",
       "0  Adventure|Animation|Children|Comedy|Fantasy  \n",
       "1                   Adventure|Children|Fantasy  \n",
       "2                               Comedy|Romance  \n",
       "3                         Comedy|Drama|Romance  \n",
       "4                                       Comedy  "
      ],
      "text/html": [
       "<div>\n",
       "<style scoped>\n",
       "    .dataframe tbody tr th:only-of-type {\n",
       "        vertical-align: middle;\n",
       "    }\n",
       "\n",
       "    .dataframe tbody tr th {\n",
       "        vertical-align: top;\n",
       "    }\n",
       "\n",
       "    .dataframe thead th {\n",
       "        text-align: right;\n",
       "    }\n",
       "</style>\n",
       "<table border=\"1\" class=\"dataframe\">\n",
       "  <thead>\n",
       "    <tr style=\"text-align: right;\">\n",
       "      <th></th>\n",
       "      <th>movieId</th>\n",
       "      <th>title</th>\n",
       "      <th>genres</th>\n",
       "    </tr>\n",
       "  </thead>\n",
       "  <tbody>\n",
       "    <tr>\n",
       "      <th>0</th>\n",
       "      <td>1</td>\n",
       "      <td>Toy Story (1995)</td>\n",
       "      <td>Adventure|Animation|Children|Comedy|Fantasy</td>\n",
       "    </tr>\n",
       "    <tr>\n",
       "      <th>1</th>\n",
       "      <td>2</td>\n",
       "      <td>Jumanji (1995)</td>\n",
       "      <td>Adventure|Children|Fantasy</td>\n",
       "    </tr>\n",
       "    <tr>\n",
       "      <th>2</th>\n",
       "      <td>3</td>\n",
       "      <td>Grumpier Old Men (1995)</td>\n",
       "      <td>Comedy|Romance</td>\n",
       "    </tr>\n",
       "    <tr>\n",
       "      <th>3</th>\n",
       "      <td>4</td>\n",
       "      <td>Waiting to Exhale (1995)</td>\n",
       "      <td>Comedy|Drama|Romance</td>\n",
       "    </tr>\n",
       "    <tr>\n",
       "      <th>4</th>\n",
       "      <td>5</td>\n",
       "      <td>Father of the Bride Part II (1995)</td>\n",
       "      <td>Comedy</td>\n",
       "    </tr>\n",
       "  </tbody>\n",
       "</table>\n",
       "</div>"
      ]
     },
     "execution_count": 15,
     "metadata": {},
     "output_type": "execute_result"
    }
   ],
   "execution_count": 15
  },
  {
   "metadata": {
    "ExecuteTime": {
     "end_time": "2024-11-18T02:24:57.567254Z",
     "start_time": "2024-11-18T02:24:57.551141Z"
    }
   },
   "cell_type": "code",
   "source": [
    "genres = genres.drop('title', axis=1)\n",
    "genres.head()"
   ],
   "id": "45bd89d1050d9635",
   "outputs": [
    {
     "data": {
      "text/plain": [
       "   movieId                                       genres\n",
       "0        1  Adventure|Animation|Children|Comedy|Fantasy\n",
       "1        2                   Adventure|Children|Fantasy\n",
       "2        3                               Comedy|Romance\n",
       "3        4                         Comedy|Drama|Romance\n",
       "4        5                                       Comedy"
      ],
      "text/html": [
       "<div>\n",
       "<style scoped>\n",
       "    .dataframe tbody tr th:only-of-type {\n",
       "        vertical-align: middle;\n",
       "    }\n",
       "\n",
       "    .dataframe tbody tr th {\n",
       "        vertical-align: top;\n",
       "    }\n",
       "\n",
       "    .dataframe thead th {\n",
       "        text-align: right;\n",
       "    }\n",
       "</style>\n",
       "<table border=\"1\" class=\"dataframe\">\n",
       "  <thead>\n",
       "    <tr style=\"text-align: right;\">\n",
       "      <th></th>\n",
       "      <th>movieId</th>\n",
       "      <th>genres</th>\n",
       "    </tr>\n",
       "  </thead>\n",
       "  <tbody>\n",
       "    <tr>\n",
       "      <th>0</th>\n",
       "      <td>1</td>\n",
       "      <td>Adventure|Animation|Children|Comedy|Fantasy</td>\n",
       "    </tr>\n",
       "    <tr>\n",
       "      <th>1</th>\n",
       "      <td>2</td>\n",
       "      <td>Adventure|Children|Fantasy</td>\n",
       "    </tr>\n",
       "    <tr>\n",
       "      <th>2</th>\n",
       "      <td>3</td>\n",
       "      <td>Comedy|Romance</td>\n",
       "    </tr>\n",
       "    <tr>\n",
       "      <th>3</th>\n",
       "      <td>4</td>\n",
       "      <td>Comedy|Drama|Romance</td>\n",
       "    </tr>\n",
       "    <tr>\n",
       "      <th>4</th>\n",
       "      <td>5</td>\n",
       "      <td>Comedy</td>\n",
       "    </tr>\n",
       "  </tbody>\n",
       "</table>\n",
       "</div>"
      ]
     },
     "execution_count": 16,
     "metadata": {},
     "output_type": "execute_result"
    }
   ],
   "execution_count": 16
  },
  {
   "metadata": {
    "ExecuteTime": {
     "end_time": "2024-11-18T02:24:57.584062Z",
     "start_time": "2024-11-18T02:24:57.568963Z"
    }
   },
   "cell_type": "code",
   "source": [
    "def create_movie_category_dict(df):\n",
    "    \"\"\"\n",
    "    从DataFrame中创建一个电影ID到类别集合的字典。\n",
    "    参数:\n",
    "    df (pd.DataFrame): 包含电影ID和类别的数据帧。\n",
    "    返回:\n",
    "    dict: 电影ID映射到类别集合的字典。\n",
    "    \"\"\"\n",
    "    kg = {}\n",
    "    for index, row in df.iterrows():\n",
    "        movie_id = row['movieId']  # 假设列名是'movieid'\n",
    "        categories = row['genres']  # 假设列名是'categories'\n",
    "        # 使用set来转换类别字符串为集合，并去除空格\n",
    "        if categories == \"(no genres listed)\":\n",
    "            continue  # 如果没有类别，跳过这一行\n",
    "        kg[movie_id] = {category.strip().lower() for category in categories.split('|')}\n",
    "    return kg"
   ],
   "id": "987302705335e31f",
   "outputs": [],
   "execution_count": 17
  },
  {
   "metadata": {
    "ExecuteTime": {
     "end_time": "2024-11-18T02:24:59.134314Z",
     "start_time": "2024-11-18T02:24:57.584062Z"
    }
   },
   "cell_type": "code",
   "source": "kg = create_movie_category_dict(genres)",
   "id": "8b7572de59553a4f",
   "outputs": [],
   "execution_count": 18
  },
  {
   "metadata": {
    "ExecuteTime": {
     "end_time": "2024-11-18T02:24:59.150206Z",
     "start_time": "2024-11-18T02:24:59.134314Z"
    }
   },
   "cell_type": "code",
   "source": "print(kg[1])",
   "id": "6b8dd3b6d7c189b8",
   "outputs": [
    {
     "name": "stdout",
     "output_type": "stream",
     "text": [
      "{'animation', 'adventure', 'children', 'fantasy', 'comedy'}\n"
     ]
    }
   ],
   "execution_count": 19
  },
  {
   "metadata": {
    "ExecuteTime": {
     "end_time": "2024-11-18T02:24:59.165964Z",
     "start_time": "2024-11-18T02:24:59.150206Z"
    }
   },
   "cell_type": "code",
   "source": [
    "n_adj=0\n",
    "for movie in kg:\n",
    "    n_adj = n_adj + len(kg[movie])\n",
    "print(n_adj)"
   ],
   "id": "25b13e446f8ffdc9",
   "outputs": [
    {
     "name": "stdout",
     "output_type": "stream",
     "text": [
      "54160\n"
     ]
    }
   ],
   "execution_count": 20
  },
  {
   "metadata": {
    "ExecuteTime": {
     "end_time": "2024-11-18T02:24:59.346607Z",
     "start_time": "2024-11-18T02:24:59.165964Z"
    }
   },
   "cell_type": "code",
   "source": [
    "embedding_dim = 25\n",
    "user_embeddings, movie_embeddings , adj_embeddings = initialize_embeddings(n_user, n_movie+2, n_adj,embedding_dim, seed=42) "
   ],
   "id": "f1aec6c66fa23e75",
   "outputs": [],
   "execution_count": 21
  },
  {
   "metadata": {
    "ExecuteTime": {
     "end_time": "2024-11-18T02:24:59.362417Z",
     "start_time": "2024-11-18T02:24:59.349120Z"
    }
   },
   "cell_type": "code",
   "source": "print(adj_embeddings.shape)",
   "id": "e04ae970d5c7027b",
   "outputs": [
    {
     "name": "stdout",
     "output_type": "stream",
     "text": [
      "(54160, 25)\n"
     ]
    }
   ],
   "execution_count": 22
  },
  {
   "metadata": {
    "ExecuteTime": {
     "end_time": "2024-11-18T02:25:03.438648Z",
     "start_time": "2024-11-18T02:24:59.362417Z"
    }
   },
   "cell_type": "code",
   "source": [
    "from torch import nn\n",
    "import torch\n",
    "device = torch.device('cuda:0')"
   ],
   "id": "6a42ecaccb8f7af3",
   "outputs": [],
   "execution_count": 23
  },
  {
   "metadata": {
    "ExecuteTime": {
     "end_time": "2024-11-18T02:25:03.799093Z",
     "start_time": "2024-11-18T02:25:03.439157Z"
    }
   },
   "cell_type": "code",
   "source": [
    "tensor_data_from_train_data = torch.as_tensor(train_data)\n",
    "tensor_data_from_eval_data = torch.as_tensor(eval_data)\n",
    "tensor_data_from_test_data = torch.as_tensor(test_data)\n",
    "tensor_data_from_train_data = tensor_data_from_train_data.to(device)\n",
    "tensor_data_from_eval_data = tensor_data_from_eval_data.to(device)\n",
    "tensor_data_from_test_data = tensor_data_from_test_data.to(device)\n",
    "print(tensor_data_from_train_data[1])"
   ],
   "id": "a4278f7ed5483590",
   "outputs": [
    {
     "name": "stdout",
     "output_type": "stream",
     "text": [
      "tensor([     42583,       6657,          5, 1071604865], device='cuda:0')\n"
     ]
    }
   ],
   "execution_count": 24
  },
  {
   "metadata": {
    "ExecuteTime": {
     "end_time": "2024-11-18T02:25:03.807380Z",
     "start_time": "2024-11-18T02:25:03.800336Z"
    }
   },
   "cell_type": "code",
   "source": [
    "class Net(nn.Module):\n",
    "    def __init__(self,n_users,n_movies,n_adj,embedding_dim):\n",
    "        super(Net,self).__init__()\n",
    "        self.num_users  = n_users\n",
    "        self.num_movies = n_movies\n",
    "        self.num_adj = n_adj\n",
    "        self.embedding_dim = embedding_dim\n",
    "        \n",
    "        self.__init_weight()\n",
    "        \n",
    "        self.model = nn.Sequential(\n",
    "            \n",
    "        )\n",
    "    def __init_weight(self):\n",
    "        self.embedding_user = torch.nn.Embedding(\n",
    "            num_embeddings=self.num_users, embedding_dim=self.embedding_dim)\n",
    "        self.embedding_movie = torch.nn.Embedding(\n",
    "            num_embeddings=self.num_movies, embedding_dim=self.embedding_dim)\n",
    "        print(\"using Normal distribution N(0,1) initialization for embedding\")\n",
    "        \n",
    "    def forward(self):\n",
    "        \n",
    "        return self.embedding_user,self.embedding_movie"
   ],
   "id": "7cd9c39a1ee91e3",
   "outputs": [],
   "execution_count": 25
  },
  {
   "metadata": {
    "ExecuteTime": {
     "end_time": "2024-11-18T02:25:03.870655Z",
     "start_time": "2024-11-18T02:25:03.808323Z"
    }
   },
   "cell_type": "code",
   "source": [
    "net = Net(n_user, n_movie, n_adj, embedding_dim)\n",
    "net.to(device)\n",
    "embedding_user,embedding_movie = net()\n",
    "print(embedding_user)\n"
   ],
   "id": "1c489399a677900f",
   "outputs": [
    {
     "name": "stdout",
     "output_type": "stream",
     "text": [
      "using Normal distribution N(0,1) initialization for embedding\n",
      "Embedding(138493, 25)\n"
     ]
    }
   ],
   "execution_count": 26
  },
  {
   "metadata": {
    "ExecuteTime": {
     "end_time": "2024-11-18T02:25:03.876393Z",
     "start_time": "2024-11-18T02:25:03.871688Z"
    }
   },
   "cell_type": "code",
   "source": "",
   "id": "c006e3373ce1b7da",
   "outputs": [],
   "execution_count": 26
  }
 ],
 "metadata": {
  "kernelspec": {
   "display_name": "Python 3",
   "language": "python",
   "name": "python3"
  },
  "language_info": {
   "codemirror_mode": {
    "name": "ipython",
    "version": 2
   },
   "file_extension": ".py",
   "mimetype": "text/x-python",
   "name": "python",
   "nbconvert_exporter": "python",
   "pygments_lexer": "ipython2",
   "version": "2.7.6"
  }
 },
 "nbformat": 4,
 "nbformat_minor": 5
}
