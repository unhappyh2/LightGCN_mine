{
 "cells": [
  {
   "cell_type": "code",
   "id": "initial_id",
   "metadata": {
    "collapsed": true,
    "ExecuteTime": {
     "end_time": "2024-11-21T09:02:38.498589Z",
     "start_time": "2024-11-21T09:02:35.632235Z"
    }
   },
   "source": [
    "import torch\n",
    "import random"
   ],
   "outputs": [],
   "execution_count": 3
  },
  {
   "metadata": {
    "ExecuteTime": {
     "end_time": "2024-11-21T09:02:38.513790Z",
     "start_time": "2024-11-21T09:02:38.499412Z"
    }
   },
   "cell_type": "code",
   "source": "batch_size = 3",
   "id": "bc3fc263943664dd",
   "outputs": [],
   "execution_count": 4
  },
  {
   "metadata": {
    "ExecuteTime": {
     "end_time": "2024-11-21T09:02:38.526028Z",
     "start_time": "2024-11-21T09:02:38.516347Z"
    }
   },
   "cell_type": "code",
   "source": [
    "edge_index = torch.LongTensor([[11, 12, 13, 14, 15, 16, 17],\n",
    "                               [102, 212, 132, 232, 402, 113, 122]])\n",
    "num_nodes = edge_index.size(1)"
   ],
   "id": "1748665e35e6e854",
   "outputs": [],
   "execution_count": 5
  },
  {
   "metadata": {
    "ExecuteTime": {
     "end_time": "2024-11-21T09:04:32.687554Z",
     "start_time": "2024-11-21T09:04:32.663395Z"
    }
   },
   "cell_type": "code",
   "source": [
    "\n",
    "device = torch.device(\"cuda\" if torch.cuda.is_available() else \"cpu\")\n",
    "\n",
    "def sample_neg( edge_index):\n",
    "    edge_index = edge_index.to(device)\n",
    "    num_nodes = edge_index.size(1)\n",
    "    user_indices, pos_item_indices = edge_index\n",
    "\n",
    "    neg_item_indices = torch.empty(0, dtype=torch.int64, device=device)  # 指定数据类型和设备\n",
    "    for i in range(num_nodes):\n",
    "        random_index = torch.randint(0, edge_index.size(1), (1,), device=device)\n",
    "        while random_index.item() == edge_index[1, i].item():\n",
    "            random_index = torch.randint(0, edge_index.size(1), (1,), device=device)\n",
    "        random_element = edge_index[1, random_index]\n",
    "        neg_item_indices = torch.cat((neg_item_indices, random_element), dim=0)\n",
    "\n",
    "    edge_index_new = torch.stack((user_indices, pos_item_indices, neg_item_indices), dim=0)\n",
    "    indices = random.choices([i for i in range(edge_index_new[0].shape[0])], k=num_nodes)\n",
    "    print(\"sample_edges: \", edge_index_new)\n",
    "    batch = edge_index_new[:, indices]\n",
    "    user_indices, pos_item_indices, neg_item_indices = batch[0], batch[1], batch[2]\n",
    "    print(batch)\n",
    "\n",
    "    return batch\n",
    "# 示例使用\n",
    "batch = sample_neg( edge_index)\n",
    "print(batch)"
   ],
   "id": "be0f3906868c00d5",
   "outputs": [
    {
     "name": "stdout",
     "output_type": "stream",
     "text": [
      "sample_edges:  tensor([[ 11,  12,  13,  14,  15,  16,  17],\n",
      "        [102, 212, 132, 232, 402, 113, 122],\n",
      "        [122, 102, 402, 402, 212, 132, 113]], device='cuda:0')\n",
      "tensor([[ 14,  15,  17,  17,  13,  15,  12],\n",
      "        [232, 402, 122, 122, 132, 402, 212],\n",
      "        [402, 212, 113, 113, 402, 212, 102]], device='cuda:0')\n",
      "tensor([[ 14,  15,  17,  17,  13,  15,  12],\n",
      "        [232, 402, 122, 122, 132, 402, 212],\n",
      "        [402, 212, 113, 113, 402, 212, 102]], device='cuda:0')\n"
     ]
    }
   ],
   "execution_count": 8
  },
  {
   "metadata": {
    "ExecuteTime": {
     "end_time": "2024-11-21T06:44:10.339460Z",
     "start_time": "2024-11-21T06:44:10.328942Z"
    }
   },
   "cell_type": "code",
   "source": "print(user_indices, pos_item_indices, neg_item_indices)",
   "id": "aa47ccc2b0e6f87c",
   "outputs": [
    {
     "name": "stdout",
     "output_type": "stream",
     "text": [
      "tensor([16, 16, 17], device='cuda:0') tensor([113, 113, 122], device='cuda:0') tensor([132, 132, 232], device='cuda:0')\n"
     ]
    }
   ],
   "execution_count": 24
  },
  {
   "metadata": {
    "ExecuteTime": {
     "end_time": "2024-11-21T06:44:10.357584Z",
     "start_time": "2024-11-21T06:44:10.339460Z"
    }
   },
   "cell_type": "code",
   "source": [
    "\n",
    "import pandas as pd\n",
    "import csv\n",
    "movie_path = '../data/ml-1m/movies.dat'\n",
    "rating_path = '../data/ml-1m/ratings.dat'\n",
    "\n",
    "with open(movie_path, 'r',encoding='utf-8') as file:\n",
    "    content = file.read()\n",
    "\n",
    "\n",
    "def convert_dat_to_csv(dat_data, csv_file_path):\n",
    "    \"\"\"\n",
    "    Converts dat format data to CSV format.\n",
    "\n",
    "    Args:\n",
    "        dat_data (str): The content of the dat file as a string.\n",
    "        csv_file_path (str): The path where the CSV file will be saved.\n",
    "    \"\"\"\n",
    "    # 分割数据为行\n",
    "    lines = dat_data.strip().split('\\n')\n",
    "\n",
    "    # 创建CSV文件并写入数据\n",
    "    with open(csv_file_path, 'w', newline='', encoding='utf-8') as csv_file:\n",
    "        writer = csv.writer(csv_file, delimiter='::')\n",
    "\n",
    "        # 写入标题行\n",
    "        writer.writerow(['movieId', 'title', 'genres'])\n",
    "\n",
    "        # 遍历每一行数据\n",
    "        for line in lines:\n",
    "            if line.strip():  # 确保不处理空行\n",
    "                # 分割每行为movieId, title, genres\n",
    "                parts = line.split('::')\n",
    "                if len(parts) == 3:\n",
    "                    movieId, title, genres = parts\n",
    "                    writer.writerow([movieId, title, genres])\n",
    "\n",
    "convert_dat_to_csv(content, 'movies.csv')\n",
    "#print(content)\n"
   ],
   "id": "4f4df11437d69c9",
   "outputs": [],
   "execution_count": 24
  }
 ],
 "metadata": {
  "kernelspec": {
   "display_name": "Python 3",
   "language": "python",
   "name": "python3"
  },
  "language_info": {
   "codemirror_mode": {
    "name": "ipython",
    "version": 2
   },
   "file_extension": ".py",
   "mimetype": "text/x-python",
   "name": "python",
   "nbconvert_exporter": "python",
   "pygments_lexer": "ipython2",
   "version": "2.7.6"
  }
 },
 "nbformat": 4,
 "nbformat_minor": 5
}
