{
 "cells": [
  {
   "cell_type": "code",
   "execution_count": 1,
   "id": "initial_id",
   "metadata": {
    "ExecuteTime": {
     "end_time": "2024-11-22T05:20:06.513065Z",
     "start_time": "2024-11-22T05:19:56.023619Z"
    },
    "collapsed": true
   },
   "outputs": [],
   "source": [
    "import time\n",
    "import random\n",
    "from tqdm import tqdm , trange\n",
    "import pandas as pd\n",
    "import numpy as np\n",
    "import matplotlib.pyplot as plt\n",
    "from sklearn.model_selection import train_test_split\n",
    " \n",
    "import torch\n",
    "from torch import nn, optim, Tensor\n",
    " \n",
    "from torch_sparse import SparseTensor, matmul\n",
    " \n",
    "from torch_geometric.utils import structured_negative_sampling\n",
    "from torch_geometric.data import download_url, extract_zip\n",
    "from torch_geometric.nn.conv.gcn_conv import gcn_norm\n",
    "from torch_geometric.nn.conv import MessagePassing\n",
    "from torch_geometric.typing import Adj\n",
    "import warnings\n",
    "warnings.simplefilter(action='ignore', category=FutureWarning)\n",
    "\n",
    "device = torch.device('cuda' if torch.cuda.is_available() else 'cpu')\n",
    "#device = torch.device('cpu')"
   ]
  },
  {
   "cell_type": "code",
   "execution_count": 2,
   "id": "1c1c75144de4599c",
   "metadata": {
    "ExecuteTime": {
     "end_time": "2024-11-22T05:20:06.523121Z",
     "start_time": "2024-11-22T05:20:06.513065Z"
    }
   },
   "outputs": [],
   "source": [
    "movie_path = '../data/movies.csv'\n",
    "rating_path = '../data/ratings.csv'"
   ]
  },
  {
   "cell_type": "code",
   "execution_count": 3,
   "id": "712965a421f6abec",
   "metadata": {
    "ExecuteTime": {
     "end_time": "2024-11-22T05:20:06.533188Z",
     "start_time": "2024-11-22T05:20:06.523121Z"
    }
   },
   "outputs": [],
   "source": [
    "def load_node_csv(path, index_col):\n",
    "    \"\"\"\n",
    "    Args:\n",
    "        path (str): 数据集路径\n",
    "        index_col (str): 数据集文件里的列索引\n",
    "    Returns:\n",
    "        dict: 列号和用户ID的索引、列好和电影ID的索引\n",
    "    \"\"\"\n",
    "    df = pd.read_csv(path, index_col=index_col)\n",
    "    mapping = {index: i for i, index in enumerate(df.index.unique())}  # enumerate()索引函数,默认索引从0开始\n",
    "    return mapping\n"
   ]
  },
  {
   "cell_type": "code",
   "execution_count": 4,
   "id": "9e348d17f4a2ece7",
   "metadata": {
    "ExecuteTime": {
     "end_time": "2024-11-22T05:20:06.840167Z",
     "start_time": "2024-11-22T05:20:06.533188Z"
    }
   },
   "outputs": [],
   "source": [
    "user_mapping = load_node_csv(rating_path, index_col='userId')\n",
    "movie_mapping = load_node_csv(movie_path, index_col='movieId')\n",
    "## movieId ：index\n",
    "## userId ：index"
   ]
  },
  {
   "cell_type": "code",
   "execution_count": 5,
   "id": "c02e1355e499137a",
   "metadata": {
    "ExecuteTime": {
     "end_time": "2024-11-22T05:20:06.849780Z",
     "start_time": "2024-11-22T05:20:06.840167Z"
    }
   },
   "outputs": [
    {
     "name": "stdout",
     "output_type": "stream",
     "text": [
      "610\n"
     ]
    }
   ],
   "source": [
    "print(len(user_mapping))"
   ]
  },
  {
   "cell_type": "code",
   "execution_count": 6,
   "id": "fe45fb1ff8b93e2d",
   "metadata": {
    "ExecuteTime": {
     "end_time": "2024-11-22T05:20:06.860299Z",
     "start_time": "2024-11-22T05:20:06.849780Z"
    }
   },
   "outputs": [],
   "source": [
    "def load_edge_csv(path, src_index_col, src_mapping, dst_index_col, dst_mapping, link_index_col, rating_threshold=4):\n",
    "    \"\"\"\n",
    "    Args:\n",
    "        path (str): 数据集路径\n",
    "        src_index_col (str): 用户列名\n",
    "        src_mapping (dict): 行号和用户ID的映射\n",
    "        dst_index_col (str): 电影列名\n",
    "        dst_mapping (dict): 行号和电影ID的映射\n",
    "        link_index_col (str): 交互的列名\n",
    "        rating_threshold (int, optional): 决定选取多少评分交互的阈值，设置为4分\n",
    "    Returns:\n",
    "        torch.Tensor: 2*N的用户电影交互节点图\n",
    "    \"\"\"\n",
    "    df = pd.read_csv(path)\n",
    "    edge_index = None\n",
    "    src = [src_mapping[index] for index in df[src_index_col]]\n",
    "    dst = [dst_mapping[index] for index in df[dst_index_col]]\n",
    "    edge_attr = torch.from_numpy(df[link_index_col].values).view(-1, 1).to(torch.long) >= rating_threshold  # 将数组转化为tensor张量\n",
    "    edge_index = [[], []]\n",
    "    for i in range(edge_attr.shape[0]):\n",
    "        if edge_attr[i]:\n",
    "            edge_index[0].append(src[i])\n",
    "            edge_index[1].append(dst[i])\n",
    " \n",
    "    return torch.tensor(edge_index)"
   ]
  },
  {
   "cell_type": "code",
   "execution_count": 7,
   "id": "e2c293037633f788",
   "metadata": {
    "ExecuteTime": {
     "end_time": "2024-11-22T05:20:11.686961Z",
     "start_time": "2024-11-22T05:20:06.860299Z"
    }
   },
   "outputs": [],
   "source": [
    "edge_index = load_edge_csv(\n",
    "    rating_path,\n",
    "    src_index_col='userId',\n",
    "    src_mapping=user_mapping,\n",
    "    dst_index_col='movieId',\n",
    "    dst_mapping=movie_mapping,\n",
    "    link_index_col='rating',\n",
    "    rating_threshold=4,\n",
    ")"
   ]
  },
  {
   "cell_type": "code",
   "execution_count": 8,
   "id": "929549f1e50ced06",
   "metadata": {
    "ExecuteTime": {
     "end_time": "2024-11-22T05:20:11.942368Z",
     "start_time": "2024-11-22T05:20:11.686961Z"
    }
   },
   "outputs": [],
   "source": [
    "num_users, num_movies = len(user_mapping), len(movie_mapping)\n",
    "num_interactions = edge_index.shape[1]\n",
    "all_indices = [i for i in range(num_interactions)]  # 所有索引\n",
    " \n",
    "train_indices, test_indices = train_test_split(\n",
    "    all_indices, test_size=0.2, random_state=1)  # 将数据集划分成80:10的训练集:测试集\n",
    "val_indices, test_indices = train_test_split(\n",
    "    test_indices, test_size=0.5, random_state=1)  # 将测试集划分成10:10的验证集:测试集,最后的比例就是80:10:10\n",
    " "
   ]
  },
  {
   "cell_type": "code",
   "execution_count": 9,
   "id": "bf97412339aec492",
   "metadata": {
    "ExecuteTime": {
     "end_time": "2024-11-22T05:20:12.173250Z",
     "start_time": "2024-11-22T05:20:11.943981Z"
    }
   },
   "outputs": [],
   "source": [
    "train_edge_index = edge_index[:, train_indices]\n",
    "val_edge_index = edge_index[:, val_indices]\n",
    "test_edge_index = edge_index[:, test_indices]"
   ]
  },
  {
   "cell_type": "code",
   "execution_count": 10,
   "id": "437e5f54ecfde675",
   "metadata": {
    "ExecuteTime": {
     "end_time": "2024-11-22T05:20:12.188912Z",
     "start_time": "2024-11-22T05:20:12.177706Z"
    }
   },
   "outputs": [
    {
     "name": "stdout",
     "output_type": "stream",
     "text": [
      "10352\n",
      "10352\n",
      "610\n",
      "9742\n"
     ]
    }
   ],
   "source": [
    "\n",
    "Num_train_nodes = num_users+num_movies\n",
    "print(Num_train_nodes)\n",
    "Num_val_nodes = num_users+num_movies\n",
    "print(Num_val_nodes)\n",
    "print(num_users)\n",
    "print(num_movies)"
   ]
  },
  {
   "cell_type": "code",
   "execution_count": 11,
   "id": "96abc954006df812",
   "metadata": {
    "ExecuteTime": {
     "end_time": "2024-11-22T05:20:12.311147Z",
     "start_time": "2024-11-22T05:20:12.191195Z"
    }
   },
   "outputs": [
    {
     "name": "stdout",
     "output_type": "stream",
     "text": [
      "SparseTensor(row=tensor([  0,   0,   0,  ..., 609, 609, 609]),\n",
      "             col=tensor([   0,    2,   43,  ..., 9461, 9462, 9463]),\n",
      "             size=(10352, 10352), nnz=38864, density=0.04%)\n",
      "SparseTensor(row=tensor([  0,   0,   0,  ..., 609, 609, 609]),\n",
      "             col=tensor([   5,  184, 1401,  ..., 8570, 8696, 8811]),\n",
      "             size=(10352, 10352), nnz=4858, density=0.00%)\n"
     ]
    }
   ],
   "source": [
    "\n",
    "train_sparse_edge_index = SparseTensor.from_edge_index(\n",
    "    train_edge_index,\n",
    "    sparse_sizes=(Num_train_nodes, Num_train_nodes)\n",
    ")\n",
    "print(train_sparse_edge_index)\n",
    "val_sparse_edge_index = SparseTensor.from_edge_index(val_edge_index,\n",
    "    sparse_sizes=(Num_val_nodes, Num_val_nodes)\n",
    " )\n",
    "print(val_sparse_edge_index)"
   ]
  },
  {
   "cell_type": "code",
   "execution_count": 12,
   "id": "58d5dcfe4eb36bc6",
   "metadata": {
    "ExecuteTime": {
     "end_time": "2024-11-22T05:20:12.327007Z",
     "start_time": "2024-11-22T05:20:12.311147Z"
    }
   },
   "outputs": [],
   "source": [
    "def sample_mini_batch(batch_size, edge_index):\n",
    "    \"\"\"\n",
    "    Args:\n",
    "        batch_size (int): 批大小\n",
    "        edge_index (torch.Tensor): 2*N的边列表\n",
    "    Returns:\n",
    "        tuple: user indices, positive item indices, negative item indices\n",
    "    \"\"\"\n",
    "   \n",
    "    edges = structured_negative_sampling(edge_index)\n",
    "    edges = torch.stack(edges, dim=0)\n",
    "    indices = random.choices(\n",
    "        [i for i in range(edges[0].shape[0])], k=batch_size)\n",
    "    batch = edges[:, indices]\n",
    "    user_indices, pos_item_indices, neg_item_indices = batch[0], batch[1], batch[2]\n",
    "    return user_indices, pos_item_indices, neg_item_indices"
   ]
  },
  {
   "cell_type": "code",
   "execution_count": 13,
   "id": "dd549306d620bfa4",
   "metadata": {
    "ExecuteTime": {
     "end_time": "2024-11-22T05:20:12.342419Z",
     "start_time": "2024-11-22T05:20:12.329017Z"
    }
   },
   "outputs": [],
   "source": [
    "def sample_neg(batch_size, edge_index):\n",
    "    print(\"sample_neg\")\n",
    "    edge_index = edge_index.to(device)\n",
    "    num_nodes = edge_index.size(1)\n",
    "    user_indices, pos_item_indices = edge_index\n",
    "\n",
    "    neg_item_indices = torch.empty(0, dtype=torch.int64, device=device)  # 指定数据类型和设备\n",
    "    for i in range(num_nodes):\n",
    "        random_index = torch.randint(0, edge_index.size(1), (1,), device=device)\n",
    "        while random_index.item() == edge_index[1, i].item():\n",
    "            random_index = torch.randint(0, edge_index.size(1), (1,), device=device)\n",
    "        random_element = edge_index[1, random_index]\n",
    "        neg_item_indices = torch.cat((neg_item_indices, random_element), dim=0)\n",
    "\n",
    "    edge_index_new = torch.stack((user_indices, pos_item_indices, neg_item_indices), dim=0)\n",
    "    indices = random.choices([i for i in range(edge_index_new[0].shape[0])], k=batch_size)\n",
    "    batch = edge_index_new[:, indices]\n",
    "    user_indices, pos_item_indices, neg_item_indices = batch[0], batch[1], batch[2]\n",
    "    return user_indices, pos_item_indices, neg_item_indices\n"
   ]
  },
  {
   "cell_type": "code",
   "execution_count": 14,
   "id": "a51ea961a93417c9",
   "metadata": {
    "ExecuteTime": {
     "end_time": "2024-11-22T05:20:12.361795Z",
     "start_time": "2024-11-22T05:20:12.343393Z"
    }
   },
   "outputs": [],
   "source": [
    "class LightGCN(MessagePassing):\n",
    "    def __init__(self, num_users, num_items, embedding_dim=32, K=2, add_self_loops=False, **kwargs):\n",
    "        \"\"\"\n",
    "        Args:\n",
    "            num_users (int): 用户数量\n",
    "            num_items (int): 电影数量\n",
    "            embedding_dim (int, optional): 嵌入维度，设置为64，后续可以调整观察效果\n",
    "            K (int, optional): 传递层数，设置为3，后续可以调整观察效果\n",
    "            add_self_loops (bool, optional): 传递时加不加自身节点，设置为不加\n",
    "        \"\"\"\n",
    "        kwargs.setdefault('aggr', 'add')\n",
    "        super().__init__(**kwargs)\n",
    "        self.num_users, self.num_items = num_users, num_items\n",
    "        self.embedding_dim, self.K = embedding_dim, K\n",
    "        self.add_self_loops = add_self_loops\n",
    " \n",
    "        self.users_emb = nn.Embedding(\n",
    "            num_embeddings=self.num_users, embedding_dim=self.embedding_dim)  # e_u^0   size: nums_users * embedding_dim\n",
    "        self.items_emb = nn.Embedding(\n",
    "            num_embeddings=self.num_items, embedding_dim=self.embedding_dim)  # e_i^0   size: nums_items * embedding_dim\n",
    " \n",
    "        nn.init.normal_(self.users_emb.weight, std=0.1)  # 从给定均值和标准差的正态分布N(mean, std)中生成值，填充输入的张量或变量\n",
    "        nn.init.normal_(self.items_emb.weight, std=0.1)\n",
    " \n",
    "    def forward(self, edge_index: SparseTensor):\n",
    "        \"\"\"\n",
    "        Args:\n",
    "            edge_index (SparseTensor): 邻接矩阵\n",
    "        Returns:\n",
    "            tuple (Tensor): e_u%^k, e_u^0, e_i^k, e_i^0\n",
    "        \"\"\"\n",
    "        # compute \\tilde{A}: symmetrically normalized adjacency matrix\n",
    "        edge_index_norm = gcn_norm(\n",
    "            edge_index, add_self_loops=self.add_self_loops)\n",
    " \n",
    "        emb_0 = torch.cat([self.users_emb.weight, \n",
    "                           self.items_emb.weight]) # E^0  size: (nums_items+nums_users) * embedding_dim\n",
    "        embs = [emb_0]\n",
    "        emb_k = emb_0\n",
    "        \n",
    " \n",
    "        # 多尺度扩散\n",
    "        for i in range(self.K):\n",
    "            emb_k = self.propagate(edge_index_norm, x=emb_k)\n",
    "            embs.append(emb_k)\n",
    " \n",
    "        embs = torch.stack(embs, dim=1)\n",
    "        emb_final = torch.mean(embs, dim=1)  # E^K\n",
    " \n",
    "        users_emb_final, items_emb_final = torch.split(\n",
    "            emb_final, [self.num_users, self.num_items])  # splits into e_u^K and e_i^K\n",
    "        # returns e_u^K, e_u^0, e_i^K, e_i^0\n",
    "        return users_emb_final, self.users_emb.weight, items_emb_final, self.items_emb.weight\n",
    " \n",
    "    def message(self, x_j: Tensor) -> Tensor:\n",
    "        return x_j\n",
    " \n",
    "    def message_and_aggregate(self, adj_t: SparseTensor, x: Tensor) -> Tensor:\n",
    "        # computes \\tilde{A} @ x\n",
    "        return matmul(adj_t, x)"
   ]
  },
  {
   "cell_type": "code",
   "execution_count": 15,
   "id": "eb6219ab8587892d",
   "metadata": {
    "ExecuteTime": {
     "end_time": "2024-11-22T05:20:12.388877Z",
     "start_time": "2024-11-22T05:20:12.364308Z"
    }
   },
   "outputs": [],
   "source": [
    "model = LightGCN(num_users, num_movies)"
   ]
  },
  {
   "cell_type": "code",
   "execution_count": 16,
   "id": "b7509022b6b0a733",
   "metadata": {
    "ExecuteTime": {
     "end_time": "2024-11-22T05:20:12.413142Z",
     "start_time": "2024-11-22T05:20:12.390665Z"
    }
   },
   "outputs": [],
   "source": [
    "def bpr_loss(users_emb_final, users_emb_0, pos_items_emb_final, pos_items_emb_0, neg_items_emb_final, neg_items_emb_0, lambda_val):\n",
    "    \"\"\"\n",
    "    Args:\n",
    "        users_emb_final (torch.Tensor): e_u^k\n",
    "        users_emb_0 (torch.Tensor): e_u^0\n",
    "        pos_items_emb_final (torch.Tensor): positive e_i^k\n",
    "        pos_items_emb_0 (torch.Tensor): positive e_i^0\n",
    "        neg_items_emb_final (torch.Tensor): negative e_i^k\n",
    "        neg_items_emb_0 (torch.Tensor): negative e_i^0\n",
    "        lambda_val (float): λ的值\n",
    "    Returns:\n",
    "        torch.Tensor: loss值\n",
    "    \"\"\"\n",
    "    reg_loss = lambda_val * (users_emb_0.norm(2).pow(2) +\n",
    "                             pos_items_emb_0.norm(2).pow(2) +\n",
    "                             neg_items_emb_0.norm(2).pow(2))  # L2 loss L2范数是指向量各元素的平方和然后求平方根\n",
    " \n",
    "    pos_scores = torch.mul(users_emb_final, pos_items_emb_final)\n",
    "    pos_scores = torch.sum(pos_scores, dim=-1) # 正采样预测分数\n",
    "    neg_scores = torch.mul(users_emb_final, neg_items_emb_final)\n",
    "    neg_scores = torch.sum(neg_scores, dim=-1) # 负采样预测分数\n",
    " \n",
    "    loss = -torch.mean(torch.nn.functional.softplus(pos_scores - neg_scores)) + reg_loss\n",
    " \n",
    "    return loss\n"
   ]
  },
  {
   "cell_type": "code",
   "execution_count": 17,
   "id": "f5d20658f825f8ce",
   "metadata": {
    "ExecuteTime": {
     "end_time": "2024-11-22T05:20:12.428055Z",
     "start_time": "2024-11-22T05:20:12.415144Z"
    }
   },
   "outputs": [],
   "source": [
    "def get_user_positive_items(edge_index):\n",
    "    \"\"\"为每个用户生成正采样字典\n",
    "    Args:\n",
    "        edge_index (torch.Tensor): 2*N的边列表\n",
    "    Returns:\n",
    "        dict: 每个用户的正采样字典\n",
    "    \"\"\"\n",
    "    user_pos_items = {}\n",
    "    for i in range(edge_index.shape[1]):\n",
    "        user = edge_index[0][i].item()\n",
    "        item = edge_index[1][i].item()\n",
    "        if user not in user_pos_items:\n",
    "            user_pos_items[user] = []\n",
    "        user_pos_items[user].append(item)\n",
    "    return user_pos_items"
   ]
  },
  {
   "cell_type": "code",
   "execution_count": 18,
   "id": "6cab5302b410f70f",
   "metadata": {
    "ExecuteTime": {
     "end_time": "2024-11-22T05:20:12.443635Z",
     "start_time": "2024-11-22T05:20:12.428964Z"
    }
   },
   "outputs": [],
   "source": [
    "def RecallPrecision_ATk(groundTruth, r, k):\n",
    "    \"\"\"\n",
    "    Args:\n",
    "        groundTruth (list): 每个用户对应电影列表的高评分项\n",
    "        r (list): 是否向每个用户推荐了前k个电影的列表\n",
    "        k (intg): 确定要计算精度和召回率的前k个电影\n",
    "    Returns:\n",
    "        tuple: recall @ k, precision @ k\n",
    "    \"\"\"\n",
    "    num_correct_pred = torch.sum(r, dim=-1)  # number of correctly predicted items per user\n",
    "    # number of items liked by each user in the test set\n",
    "    user_num_liked = torch.Tensor([len(groundTruth[i])\n",
    "                                  for i in range(len(groundTruth))])\n",
    "    recall = torch.mean(num_correct_pred / user_num_liked)\n",
    "    precision = torch.mean(num_correct_pred) / k\n",
    "    return recall.item(), precision.item()"
   ]
  },
  {
   "cell_type": "code",
   "execution_count": 19,
   "id": "d36333f40d885e",
   "metadata": {
    "ExecuteTime": {
     "end_time": "2024-11-22T05:20:12.471016Z",
     "start_time": "2024-11-22T05:20:12.443635Z"
    }
   },
   "outputs": [],
   "source": [
    "def NDCGatK_r(groundTruth, r, k):\n",
    "    \"\"\"Computes Normalized Discounted Cumulative Gain (NDCG) @ k\n",
    "    Args:\n",
    "        groundTruth (list): 同上一个函数\n",
    "        r (list): 同上一个函数\n",
    "        k (int): 同上一个函数\n",
    "    Returns:\n",
    "        float: ndcg @ k\n",
    "    \"\"\"\n",
    "    assert len(r) == len(groundTruth)\n",
    " \n",
    "    test_matrix = torch.zeros((len(r), k))\n",
    " \n",
    "    for i, items in enumerate(groundTruth):\n",
    "        length = min(len(items), k)\n",
    "        test_matrix[i, :length] = 1\n",
    "    max_r = test_matrix\n",
    "    idcg = torch.sum(max_r * 1. / torch.log2(torch.arange(2, k + 2)), axis=1)\n",
    "    dcg = r * (1. / torch.log2(torch.arange(2, k + 2)))\n",
    "    dcg = torch.sum(dcg, axis=1)\n",
    "    idcg[idcg == 0.] = 1.\n",
    "    ndcg = dcg / idcg\n",
    "    ndcg[torch.isnan(ndcg)] = 0.\n",
    "    return torch.mean(ndcg).item()\n"
   ]
  },
  {
   "cell_type": "code",
   "execution_count": 20,
   "id": "869398e13b19a18a",
   "metadata": {
    "ExecuteTime": {
     "end_time": "2024-11-22T05:20:12.484573Z",
     "start_time": "2024-11-22T05:20:12.471016Z"
    }
   },
   "outputs": [],
   "source": [
    "def get_metrics(model, edge_index, exclude_edge_indices, k):\n",
    "    \"\"\"\n",
    "    Args:\n",
    "        model (LighGCN): lightgcn model\n",
    "        edge_index (torch.Tensor): 2*N列表\n",
    "        exclude_edge_indices ([type]): 2*N列表\n",
    "        k (int): 前多少个电影\n",
    "    Returns:\n",
    "        tuple: recall @ k, precision @ k, ndcg @ k\n",
    "    \"\"\"\n",
    "    user_embedding = model.users_emb.weight\n",
    "    item_embedding = model.items_emb.weight\n",
    " \n",
    "    # get ratings between every user and item - shape is num users x num movies\n",
    "    rating = torch.matmul(user_embedding, item_embedding.T)\n",
    " \n",
    "    for exclude_edge_index in exclude_edge_indices:\n",
    "        # gets all the positive items for each user from the edge index\n",
    "        user_pos_items = get_user_positive_items(exclude_edge_index)\n",
    "        # get coordinates of all edges to exclude\n",
    "        exclude_users = []\n",
    "        exclude_items = []\n",
    "        for user, items in user_pos_items.items():\n",
    "            exclude_users.extend([user] * len(items))\n",
    "            exclude_items.extend(items)\n",
    " \n",
    "        # set ratings of excluded edges to large negative value\n",
    "        rating[exclude_users, exclude_items] = -(1 << 10)\n",
    " \n",
    "    # get the top k recommended items for each user\n",
    "    _, top_K_items = torch.topk(rating, k=k)\n",
    " \n",
    "    # get all unique users in evaluated split\n",
    "    users = edge_index[0].unique()\n",
    " \n",
    "    test_user_pos_items = get_user_positive_items(edge_index)\n",
    " \n",
    "    # convert test user pos items dictionary into a list\n",
    "    test_user_pos_items_list = [\n",
    "        test_user_pos_items[user.item()] for user in users]\n",
    " \n",
    "    # determine the correctness of topk predictions\n",
    "    r = []\n",
    "    for user in users:\n",
    "        ground_truth_items = test_user_pos_items[user.item()]\n",
    "        label = list(map(lambda x: x in ground_truth_items, top_K_items[user]))\n",
    "        r.append(label)\n",
    "    r = torch.Tensor(np.array(r).astype('float'))\n",
    " \n",
    "    recall, precision = RecallPrecision_ATk(test_user_pos_items_list, r, k)\n",
    "    ndcg = NDCGatK_r(test_user_pos_items_list, r, k)\n",
    " \n",
    "    return recall, precision, ndcg "
   ]
  },
  {
   "cell_type": "code",
   "execution_count": 21,
   "id": "aacba28d4c8e056d",
   "metadata": {
    "ExecuteTime": {
     "end_time": "2024-11-22T05:20:12.504704Z",
     "start_time": "2024-11-22T05:20:12.484573Z"
    }
   },
   "outputs": [],
   "source": [
    "def get_neg( edge_index):\n",
    "    print(\"get_neg\")\n",
    "    edge_index = edge_index.to(device)\n",
    "    num_nodes = edge_index.size(1)\n",
    "    user_indices, pos_item_indices = edge_index\n",
    "\n",
    "    neg_item_indices = torch.empty(0, dtype=torch.int64, device=device)  # 指定数据类型和设备\n",
    "    for i in range(num_nodes):\n",
    "        random_index = torch.randint(0, edge_index.size(1), (1,), device=device)\n",
    "        while random_index.item() == edge_index[1, i].item():\n",
    "            random_index = torch.randint(0, edge_index.size(1), (1,), device=device)\n",
    "        random_element = edge_index[1, random_index]\n",
    "        neg_item_indices = torch.cat((neg_item_indices, random_element), dim=0)\n",
    "\n",
    "    edge_index_new = torch.stack((user_indices, pos_item_indices, neg_item_indices), dim=0)\n",
    "    indices = random.choices([i for i in range(edge_index_new[0].shape[0])], k=num_nodes)\n",
    "    batch = edge_index_new[:, indices]\n",
    "    return batch"
   ]
  },
  {
   "cell_type": "code",
   "execution_count": 22,
   "id": "8aea3bd82f854c69",
   "metadata": {
    "ExecuteTime": {
     "end_time": "2024-11-22T05:20:12.514249Z",
     "start_time": "2024-11-22T05:20:12.504704Z"
    }
   },
   "outputs": [],
   "source": [
    "def evaluation(model, edge_index, sparse_edge_index, exclude_edge_indices, k, lambda_val):\n",
    "    # get embeddings\n",
    "    users_emb_final, users_emb_0, items_emb_final, items_emb_0 = model.forward(\n",
    "        sparse_edge_index)\n",
    "    edges = structured_negative_sampling(\n",
    "        edge_index, contains_neg_self_loops=False)\n",
    "    user_indices, pos_item_indices, neg_item_indices = edges[0], edges[1], edges[2]\n",
    "    users_emb_final, users_emb_0 = users_emb_final[user_indices], users_emb_0[user_indices]\n",
    "    pos_items_emb_final, pos_items_emb_0 = items_emb_final[\n",
    "        pos_item_indices], items_emb_0[pos_item_indices]\n",
    "    neg_items_emb_final, neg_items_emb_0 = items_emb_final[\n",
    "        neg_item_indices], items_emb_0[neg_item_indices]\n",
    " \n",
    "    loss = bpr_loss(users_emb_final, users_emb_0, pos_items_emb_final, pos_items_emb_0,\n",
    "                    neg_items_emb_final, neg_items_emb_0, lambda_val).item()\n",
    " \n",
    "    recall, precision, ndcg = get_metrics(\n",
    "        model, edge_index, exclude_edge_indices, k)\n",
    " \n",
    "    return loss, recall, precision, ndcg"
   ]
  },
  {
   "cell_type": "code",
   "execution_count": 23,
   "id": "956e76152ea510a9",
   "metadata": {
    "ExecuteTime": {
     "end_time": "2024-11-22T06:26:47.849959Z",
     "start_time": "2024-11-22T06:26:47.834362Z"
    }
   },
   "outputs": [],
   "source": [
    "ITERATIONS = 100000\n",
    "BATCH_SIZE = 1024\n",
    "LR = 1e-3\n",
    "ITERS_PER_EVAL = 200\n",
    "ITERS_PER_LR_DECAY = 200\n",
    "K = 20\n",
    "LAMBDA = 1e-6"
   ]
  },
  {
   "cell_type": "code",
   "execution_count": 24,
   "id": "99427fb65a7b1d2b",
   "metadata": {
    "ExecuteTime": {
     "end_time": "2024-11-22T06:26:47.913440Z",
     "start_time": "2024-11-22T06:26:47.881740Z"
    }
   },
   "outputs": [],
   "source": [
    "model = model.to(device)\n",
    "model.train()\n",
    " \n",
    "optimizer = optim.Adam(model.parameters(), lr=LR)\n",
    "scheduler = optim.lr_scheduler.ExponentialLR(optimizer, gamma=0.95)\n",
    "\n",
    "edge_index = edge_index.to(device)\n",
    "train_edge_index = train_edge_index.to(device)\n",
    "train_sparse_edge_index = train_sparse_edge_index.to(device)\n",
    " \n",
    "val_edge_index = val_edge_index.to(device)\n",
    "val_sparse_edge_index = val_sparse_edge_index.to(device)"
   ]
  },
  {
   "cell_type": "code",
   "execution_count": 25,
   "id": "6395cb1cac29ba83",
   "metadata": {
    "ExecuteTime": {
     "end_time": "2024-11-22T06:26:47.929064Z",
     "start_time": "2024-11-22T06:26:47.913440Z"
    }
   },
   "outputs": [
    {
     "name": "stdout",
     "output_type": "stream",
     "text": [
      "SparseTensor(row=tensor([  0,   0,   0,  ..., 609, 609, 609], device='cuda:0'),\n",
      "             col=tensor([   0,    2,   43,  ..., 9461, 9462, 9463], device='cuda:0'),\n",
      "             size=(10352, 10352), nnz=38864, density=0.04%)\n"
     ]
    }
   ],
   "source": [
    "print(train_sparse_edge_index)"
   ]
  },
  {
   "cell_type": "code",
   "execution_count": 34,
   "id": "8212c8e68cc08d22",
   "metadata": {
    "ExecuteTime": {
     "end_time": "2024-11-22T10:48:05.228057Z",
     "start_time": "2024-11-22T06:26:47.929064Z"
    }
   },
   "outputs": [
    {
     "name": "stderr",
     "output_type": "stream",
     "text": [
      " 33%|███▎      | 32803/100000 [1:05:23<20:22:54,  1.09s/it]"
     ]
    },
    {
     "name": "stdout",
     "output_type": "stream",
     "text": [
      "[Iteration 32800/100000] train_loss: -94.84355, val_loss: -85.38945, val_recall@20: 0.15453, val_precision@20: 0.04647, val_ndcg@20: 0.1069\n"
     ]
    },
    {
     "name": "stderr",
     "output_type": "stream",
     "text": [
      " 33%|███▎      | 33003/100000 [1:05:45<20:10:53,  1.08s/it]"
     ]
    },
    {
     "name": "stdout",
     "output_type": "stream",
     "text": [
      "[Iteration 33000/100000] train_loss: -98.87516, val_loss: -85.74242, val_recall@20: 0.15453, val_precision@20: 0.04647, val_ndcg@20: 0.1069\n"
     ]
    },
    {
     "name": "stderr",
     "output_type": "stream",
     "text": [
      " 33%|███▎      | 33203/100000 [1:06:08<20:20:59,  1.10s/it]"
     ]
    },
    {
     "name": "stdout",
     "output_type": "stream",
     "text": [
      "[Iteration 33200/100000] train_loss: -102.3941, val_loss: -85.58361, val_recall@20: 0.15453, val_precision@20: 0.04647, val_ndcg@20: 0.1069\n"
     ]
    },
    {
     "name": "stderr",
     "output_type": "stream",
     "text": [
      " 33%|███▎      | 33403/100000 [1:06:31<20:08:50,  1.09s/it]"
     ]
    },
    {
     "name": "stdout",
     "output_type": "stream",
     "text": [
      "[Iteration 33400/100000] train_loss: -100.00067, val_loss: -85.17481, val_recall@20: 0.15453, val_precision@20: 0.04647, val_ndcg@20: 0.1069\n"
     ]
    },
    {
     "name": "stderr",
     "output_type": "stream",
     "text": [
      " 34%|███▎      | 33603/100000 [1:06:54<20:34:09,  1.12s/it]"
     ]
    },
    {
     "name": "stdout",
     "output_type": "stream",
     "text": [
      "[Iteration 33600/100000] train_loss: -98.49738, val_loss: -86.10824, val_recall@20: 0.15453, val_precision@20: 0.04647, val_ndcg@20: 0.1069\n"
     ]
    },
    {
     "name": "stderr",
     "output_type": "stream",
     "text": [
      " 34%|███▍      | 33803/100000 [1:07:18<20:22:48,  1.11s/it]"
     ]
    },
    {
     "name": "stdout",
     "output_type": "stream",
     "text": [
      "[Iteration 33800/100000] train_loss: -100.40553, val_loss: -85.14677, val_recall@20: 0.15453, val_precision@20: 0.04647, val_ndcg@20: 0.1069\n"
     ]
    },
    {
     "name": "stderr",
     "output_type": "stream",
     "text": [
      " 34%|███▍      | 34003/100000 [1:07:41<19:53:08,  1.08s/it]"
     ]
    },
    {
     "name": "stdout",
     "output_type": "stream",
     "text": [
      "[Iteration 34000/100000] train_loss: -99.46172, val_loss: -85.36887, val_recall@20: 0.15453, val_precision@20: 0.04647, val_ndcg@20: 0.1069\n"
     ]
    },
    {
     "name": "stderr",
     "output_type": "stream",
     "text": [
      " 34%|███▍      | 34203/100000 [1:08:03<20:04:54,  1.10s/it]"
     ]
    },
    {
     "name": "stdout",
     "output_type": "stream",
     "text": [
      "[Iteration 34200/100000] train_loss: -102.25406, val_loss: -85.54018, val_recall@20: 0.15453, val_precision@20: 0.04647, val_ndcg@20: 0.1069\n"
     ]
    },
    {
     "name": "stderr",
     "output_type": "stream",
     "text": [
      " 34%|███▍      | 34403/100000 [1:08:29<22:01:44,  1.21s/it]"
     ]
    },
    {
     "name": "stdout",
     "output_type": "stream",
     "text": [
      "[Iteration 34400/100000] train_loss: -103.61739, val_loss: -86.27226, val_recall@20: 0.15453, val_precision@20: 0.04647, val_ndcg@20: 0.1069\n"
     ]
    },
    {
     "name": "stderr",
     "output_type": "stream",
     "text": [
      " 35%|███▍      | 34603/100000 [1:08:54<20:33:58,  1.13s/it]"
     ]
    },
    {
     "name": "stdout",
     "output_type": "stream",
     "text": [
      "[Iteration 34600/100000] train_loss: -97.91891, val_loss: -86.11169, val_recall@20: 0.15453, val_precision@20: 0.04647, val_ndcg@20: 0.1069\n"
     ]
    },
    {
     "name": "stderr",
     "output_type": "stream",
     "text": [
      " 35%|███▍      | 34803/100000 [1:09:17<20:22:56,  1.13s/it]"
     ]
    },
    {
     "name": "stdout",
     "output_type": "stream",
     "text": [
      "[Iteration 34800/100000] train_loss: -99.72494, val_loss: -85.64635, val_recall@20: 0.15453, val_precision@20: 0.04647, val_ndcg@20: 0.1069\n"
     ]
    },
    {
     "name": "stderr",
     "output_type": "stream",
     "text": [
      " 35%|███▌      | 35003/100000 [1:09:41<20:30:13,  1.14s/it]"
     ]
    },
    {
     "name": "stdout",
     "output_type": "stream",
     "text": [
      "[Iteration 35000/100000] train_loss: -98.33095, val_loss: -86.12772, val_recall@20: 0.15453, val_precision@20: 0.04647, val_ndcg@20: 0.1069\n"
     ]
    },
    {
     "name": "stderr",
     "output_type": "stream",
     "text": [
      " 35%|███▌      | 35203/100000 [1:10:05<21:58:45,  1.22s/it]"
     ]
    },
    {
     "name": "stdout",
     "output_type": "stream",
     "text": [
      "[Iteration 35200/100000] train_loss: -99.36646, val_loss: -84.66911, val_recall@20: 0.15453, val_precision@20: 0.04647, val_ndcg@20: 0.1069\n"
     ]
    },
    {
     "name": "stderr",
     "output_type": "stream",
     "text": [
      " 35%|███▌      | 35404/100000 [1:10:31<20:51:08,  1.16s/it]"
     ]
    },
    {
     "name": "stdout",
     "output_type": "stream",
     "text": [
      "[Iteration 35400/100000] train_loss: -96.02809, val_loss: -84.91373, val_recall@20: 0.15453, val_precision@20: 0.04647, val_ndcg@20: 0.1069\n"
     ]
    },
    {
     "name": "stderr",
     "output_type": "stream",
     "text": [
      " 36%|███▌      | 35603/100000 [1:11:00<26:15:37,  1.47s/it]"
     ]
    },
    {
     "name": "stdout",
     "output_type": "stream",
     "text": [
      "[Iteration 35600/100000] train_loss: -98.12745, val_loss: -85.56635, val_recall@20: 0.15453, val_precision@20: 0.04647, val_ndcg@20: 0.1069\n"
     ]
    },
    {
     "name": "stderr",
     "output_type": "stream",
     "text": [
      " 36%|███▌      | 35803/100000 [1:11:23<19:57:38,  1.12s/it]"
     ]
    },
    {
     "name": "stdout",
     "output_type": "stream",
     "text": [
      "[Iteration 35800/100000] train_loss: -100.86854, val_loss: -85.22603, val_recall@20: 0.15453, val_precision@20: 0.04647, val_ndcg@20: 0.1069\n"
     ]
    },
    {
     "name": "stderr",
     "output_type": "stream",
     "text": [
      " 36%|███▌      | 36003/100000 [1:11:47<21:33:28,  1.21s/it]"
     ]
    },
    {
     "name": "stdout",
     "output_type": "stream",
     "text": [
      "[Iteration 36000/100000] train_loss: -99.30792, val_loss: -85.33643, val_recall@20: 0.15453, val_precision@20: 0.04647, val_ndcg@20: 0.1069\n"
     ]
    },
    {
     "name": "stderr",
     "output_type": "stream",
     "text": [
      " 36%|███▌      | 36203/100000 [1:12:13<25:00:53,  1.41s/it]"
     ]
    },
    {
     "name": "stdout",
     "output_type": "stream",
     "text": [
      "[Iteration 36200/100000] train_loss: -99.5908, val_loss: -85.77053, val_recall@20: 0.15453, val_precision@20: 0.04647, val_ndcg@20: 0.1069\n"
     ]
    },
    {
     "name": "stderr",
     "output_type": "stream",
     "text": [
      " 36%|███▋      | 36403/100000 [1:12:38<19:07:38,  1.08s/it]"
     ]
    },
    {
     "name": "stdout",
     "output_type": "stream",
     "text": [
      "[Iteration 36400/100000] train_loss: -98.35342, val_loss: -85.89388, val_recall@20: 0.15453, val_precision@20: 0.04647, val_ndcg@20: 0.1069\n"
     ]
    },
    {
     "name": "stderr",
     "output_type": "stream",
     "text": [
      " 37%|███▋      | 36603/100000 [1:13:01<21:04:44,  1.20s/it]"
     ]
    },
    {
     "name": "stdout",
     "output_type": "stream",
     "text": [
      "[Iteration 36600/100000] train_loss: -98.55279, val_loss: -85.97527, val_recall@20: 0.15453, val_precision@20: 0.04647, val_ndcg@20: 0.1069\n"
     ]
    },
    {
     "name": "stderr",
     "output_type": "stream",
     "text": [
      " 37%|███▋      | 36803/100000 [1:13:25<20:40:23,  1.18s/it]"
     ]
    },
    {
     "name": "stdout",
     "output_type": "stream",
     "text": [
      "[Iteration 36800/100000] train_loss: -100.48499, val_loss: -85.42103, val_recall@20: 0.15453, val_precision@20: 0.04647, val_ndcg@20: 0.1069\n"
     ]
    },
    {
     "name": "stderr",
     "output_type": "stream",
     "text": [
      " 37%|███▋      | 37003/100000 [1:13:49<20:15:11,  1.16s/it]"
     ]
    },
    {
     "name": "stdout",
     "output_type": "stream",
     "text": [
      "[Iteration 37000/100000] train_loss: -97.94402, val_loss: -86.1939, val_recall@20: 0.15453, val_precision@20: 0.04647, val_ndcg@20: 0.1069\n"
     ]
    },
    {
     "name": "stderr",
     "output_type": "stream",
     "text": [
      " 37%|███▋      | 37203/100000 [1:14:12<19:19:33,  1.11s/it]"
     ]
    },
    {
     "name": "stdout",
     "output_type": "stream",
     "text": [
      "[Iteration 37200/100000] train_loss: -98.75332, val_loss: -85.44694, val_recall@20: 0.15453, val_precision@20: 0.04647, val_ndcg@20: 0.1069\n"
     ]
    },
    {
     "name": "stderr",
     "output_type": "stream",
     "text": [
      " 37%|███▋      | 37403/100000 [1:14:36<19:23:33,  1.12s/it]"
     ]
    },
    {
     "name": "stdout",
     "output_type": "stream",
     "text": [
      "[Iteration 37400/100000] train_loss: -93.34132, val_loss: -84.99197, val_recall@20: 0.15453, val_precision@20: 0.04647, val_ndcg@20: 0.1069\n"
     ]
    },
    {
     "name": "stderr",
     "output_type": "stream",
     "text": [
      " 38%|███▊      | 37603/100000 [1:14:59<19:27:55,  1.12s/it]"
     ]
    },
    {
     "name": "stdout",
     "output_type": "stream",
     "text": [
      "[Iteration 37600/100000] train_loss: -94.87885, val_loss: -85.98043, val_recall@20: 0.15453, val_precision@20: 0.04647, val_ndcg@20: 0.1069\n"
     ]
    },
    {
     "name": "stderr",
     "output_type": "stream",
     "text": [
      " 38%|███▊      | 37803/100000 [1:15:23<19:30:08,  1.13s/it]"
     ]
    },
    {
     "name": "stdout",
     "output_type": "stream",
     "text": [
      "[Iteration 37800/100000] train_loss: -100.07269, val_loss: -86.86961, val_recall@20: 0.15453, val_precision@20: 0.04647, val_ndcg@20: 0.1069\n"
     ]
    },
    {
     "name": "stderr",
     "output_type": "stream",
     "text": [
      " 38%|███▊      | 38003/100000 [1:15:46<18:36:38,  1.08s/it]"
     ]
    },
    {
     "name": "stdout",
     "output_type": "stream",
     "text": [
      "[Iteration 38000/100000] train_loss: -99.1041, val_loss: -85.06733, val_recall@20: 0.15453, val_precision@20: 0.04647, val_ndcg@20: 0.1069\n"
     ]
    },
    {
     "name": "stderr",
     "output_type": "stream",
     "text": [
      " 38%|███▊      | 38203/100000 [1:16:10<19:37:33,  1.14s/it]"
     ]
    },
    {
     "name": "stdout",
     "output_type": "stream",
     "text": [
      "[Iteration 38200/100000] train_loss: -97.24821, val_loss: -85.54716, val_recall@20: 0.15453, val_precision@20: 0.04647, val_ndcg@20: 0.1069\n"
     ]
    },
    {
     "name": "stderr",
     "output_type": "stream",
     "text": [
      " 38%|███▊      | 38403/100000 [1:16:33<18:10:58,  1.06s/it]"
     ]
    },
    {
     "name": "stdout",
     "output_type": "stream",
     "text": [
      "[Iteration 38400/100000] train_loss: -100.40199, val_loss: -86.05659, val_recall@20: 0.15453, val_precision@20: 0.04647, val_ndcg@20: 0.1069\n"
     ]
    },
    {
     "name": "stderr",
     "output_type": "stream",
     "text": [
      " 39%|███▊      | 38603/100000 [1:16:55<18:50:51,  1.11s/it]"
     ]
    },
    {
     "name": "stdout",
     "output_type": "stream",
     "text": [
      "[Iteration 38600/100000] train_loss: -96.33147, val_loss: -86.10436, val_recall@20: 0.15453, val_precision@20: 0.04647, val_ndcg@20: 0.1069\n"
     ]
    },
    {
     "name": "stderr",
     "output_type": "stream",
     "text": [
      " 39%|███▉      | 38803/100000 [1:17:19<19:22:41,  1.14s/it]"
     ]
    },
    {
     "name": "stdout",
     "output_type": "stream",
     "text": [
      "[Iteration 38800/100000] train_loss: -100.45494, val_loss: -85.81287, val_recall@20: 0.15453, val_precision@20: 0.04647, val_ndcg@20: 0.1069\n"
     ]
    },
    {
     "name": "stderr",
     "output_type": "stream",
     "text": [
      " 39%|███▉      | 39003/100000 [1:17:43<19:08:53,  1.13s/it]"
     ]
    },
    {
     "name": "stdout",
     "output_type": "stream",
     "text": [
      "[Iteration 39000/100000] train_loss: -97.33179, val_loss: -85.72388, val_recall@20: 0.15453, val_precision@20: 0.04647, val_ndcg@20: 0.1069\n"
     ]
    },
    {
     "name": "stderr",
     "output_type": "stream",
     "text": [
      " 39%|███▉      | 39203/100000 [1:18:04<17:42:29,  1.05s/it]"
     ]
    },
    {
     "name": "stdout",
     "output_type": "stream",
     "text": [
      "[Iteration 39200/100000] train_loss: -101.45878, val_loss: -86.14044, val_recall@20: 0.15453, val_precision@20: 0.04647, val_ndcg@20: 0.1069\n"
     ]
    },
    {
     "name": "stderr",
     "output_type": "stream",
     "text": [
      " 39%|███▉      | 39403/100000 [1:18:28<18:13:15,  1.08s/it]"
     ]
    },
    {
     "name": "stdout",
     "output_type": "stream",
     "text": [
      "[Iteration 39400/100000] train_loss: -95.28227, val_loss: -86.21354, val_recall@20: 0.15453, val_precision@20: 0.04647, val_ndcg@20: 0.1069\n"
     ]
    },
    {
     "name": "stderr",
     "output_type": "stream",
     "text": [
      " 40%|███▉      | 39603/100000 [1:18:49<17:18:12,  1.03s/it]"
     ]
    },
    {
     "name": "stdout",
     "output_type": "stream",
     "text": [
      "[Iteration 39600/100000] train_loss: -99.28495, val_loss: -85.04958, val_recall@20: 0.15453, val_precision@20: 0.04647, val_ndcg@20: 0.1069\n"
     ]
    },
    {
     "name": "stderr",
     "output_type": "stream",
     "text": [
      " 40%|███▉      | 39803/100000 [1:19:12<18:51:09,  1.13s/it]"
     ]
    },
    {
     "name": "stdout",
     "output_type": "stream",
     "text": [
      "[Iteration 39800/100000] train_loss: -99.1235, val_loss: -85.30232, val_recall@20: 0.15453, val_precision@20: 0.04647, val_ndcg@20: 0.1069\n"
     ]
    },
    {
     "name": "stderr",
     "output_type": "stream",
     "text": [
      " 40%|████      | 40003/100000 [1:19:35<18:23:45,  1.10s/it]"
     ]
    },
    {
     "name": "stdout",
     "output_type": "stream",
     "text": [
      "[Iteration 40000/100000] train_loss: -97.0814, val_loss: -85.29531, val_recall@20: 0.15453, val_precision@20: 0.04647, val_ndcg@20: 0.1069\n"
     ]
    },
    {
     "name": "stderr",
     "output_type": "stream",
     "text": [
      " 40%|████      | 40203/100000 [1:19:57<17:16:30,  1.04s/it]"
     ]
    },
    {
     "name": "stdout",
     "output_type": "stream",
     "text": [
      "[Iteration 40200/100000] train_loss: -100.14456, val_loss: -84.81886, val_recall@20: 0.15453, val_precision@20: 0.04647, val_ndcg@20: 0.1069\n"
     ]
    },
    {
     "name": "stderr",
     "output_type": "stream",
     "text": [
      " 40%|████      | 40403/100000 [1:20:20<19:03:02,  1.15s/it]"
     ]
    },
    {
     "name": "stdout",
     "output_type": "stream",
     "text": [
      "[Iteration 40400/100000] train_loss: -98.20558, val_loss: -85.8347, val_recall@20: 0.15453, val_precision@20: 0.04647, val_ndcg@20: 0.1069\n"
     ]
    },
    {
     "name": "stderr",
     "output_type": "stream",
     "text": [
      " 41%|████      | 40603/100000 [1:20:42<18:03:23,  1.09s/it]"
     ]
    },
    {
     "name": "stdout",
     "output_type": "stream",
     "text": [
      "[Iteration 40600/100000] train_loss: -102.07591, val_loss: -85.99305, val_recall@20: 0.15453, val_precision@20: 0.04647, val_ndcg@20: 0.1069\n"
     ]
    },
    {
     "name": "stderr",
     "output_type": "stream",
     "text": [
      " 41%|████      | 40803/100000 [1:21:05<17:14:40,  1.05s/it]"
     ]
    },
    {
     "name": "stdout",
     "output_type": "stream",
     "text": [
      "[Iteration 40800/100000] train_loss: -97.10526, val_loss: -85.5632, val_recall@20: 0.15453, val_precision@20: 0.04647, val_ndcg@20: 0.1069\n"
     ]
    },
    {
     "name": "stderr",
     "output_type": "stream",
     "text": [
      " 41%|████      | 41003/100000 [1:21:28<18:42:28,  1.14s/it]"
     ]
    },
    {
     "name": "stdout",
     "output_type": "stream",
     "text": [
      "[Iteration 41000/100000] train_loss: -100.64285, val_loss: -86.46677, val_recall@20: 0.15453, val_precision@20: 0.04647, val_ndcg@20: 0.1069\n"
     ]
    },
    {
     "name": "stderr",
     "output_type": "stream",
     "text": [
      " 41%|████      | 41203/100000 [1:21:51<18:17:43,  1.12s/it]"
     ]
    },
    {
     "name": "stdout",
     "output_type": "stream",
     "text": [
      "[Iteration 41200/100000] train_loss: -98.54516, val_loss: -85.93966, val_recall@20: 0.15453, val_precision@20: 0.04647, val_ndcg@20: 0.1069\n"
     ]
    },
    {
     "name": "stderr",
     "output_type": "stream",
     "text": [
      " 41%|████▏     | 41403/100000 [1:22:14<18:17:16,  1.12s/it]"
     ]
    },
    {
     "name": "stdout",
     "output_type": "stream",
     "text": [
      "[Iteration 41400/100000] train_loss: -96.46104, val_loss: -84.96462, val_recall@20: 0.15453, val_precision@20: 0.04647, val_ndcg@20: 0.1069\n"
     ]
    },
    {
     "name": "stderr",
     "output_type": "stream",
     "text": [
      " 41%|████▏     | 41471/100000 [1:22:19<1:56:11,  8.40it/s] \n"
     ]
    },
    {
     "ename": "KeyboardInterrupt",
     "evalue": "",
     "output_type": "error",
     "traceback": [
      "\u001b[1;31m---------------------------------------------------------------------------\u001b[0m",
      "\u001b[1;31mKeyboardInterrupt\u001b[0m                         Traceback (most recent call last)",
      "Cell \u001b[1;32mIn[34], line 9\u001b[0m\n\u001b[0;32m      6\u001b[0m time_end \u001b[38;5;241m=\u001b[39m time\u001b[38;5;241m.\u001b[39mtime()\n\u001b[0;32m      8\u001b[0m \u001b[38;5;28;01mfor\u001b[39;00m \u001b[38;5;28miter\u001b[39m \u001b[38;5;129;01min\u001b[39;00m trange(ITERATIONS):\n\u001b[1;32m----> 9\u001b[0m     \u001b[43mos\u001b[49m\u001b[38;5;241;43m.\u001b[39;49m\u001b[43msystem\u001b[49m\u001b[43m(\u001b[49m\u001b[38;5;124;43m'\u001b[39;49m\u001b[38;5;124;43mcls\u001b[39;49m\u001b[38;5;124;43m'\u001b[39;49m\u001b[43m \u001b[49m\u001b[38;5;28;43;01mif\u001b[39;49;00m\u001b[43m \u001b[49m\u001b[43mos\u001b[49m\u001b[38;5;241;43m.\u001b[39;49m\u001b[43mname\u001b[49m\u001b[43m \u001b[49m\u001b[38;5;241;43m==\u001b[39;49m\u001b[43m \u001b[49m\u001b[38;5;124;43m'\u001b[39;49m\u001b[38;5;124;43mnt\u001b[39;49m\u001b[38;5;124;43m'\u001b[39;49m\u001b[43m \u001b[49m\u001b[38;5;28;43;01melse\u001b[39;49;00m\u001b[43m \u001b[49m\u001b[38;5;124;43m'\u001b[39;49m\u001b[38;5;124;43mclear\u001b[39;49m\u001b[38;5;124;43m'\u001b[39;49m\u001b[43m)\u001b[49m\n\u001b[0;32m     10\u001b[0m     time_start \u001b[38;5;241m=\u001b[39m time\u001b[38;5;241m.\u001b[39mtime()\n\u001b[0;32m     11\u001b[0m     \u001b[38;5;66;03m# forward propagation\u001b[39;00m\n",
      "\u001b[1;31mKeyboardInterrupt\u001b[0m: "
     ]
    }
   ],
   "source": [
    "\n",
    "train_losses = []\n",
    "val_losses = []\n",
    "import os\n",
    "os.environ['CUDA_LAUNCH_BLOCKING'] = '1'\n",
    "time_start = time.time()\n",
    "time_end = time.time()\n",
    "i= 0\n",
    "for iter in trange(ITERATIONS):\n",
    "    i=i+1\n",
    "    print(f\"\\r{i}\", end=\"\")\n",
    "    time_start = time.time()\n",
    "    # forward propagation\n",
    "    users_emb_final, users_emb_0, items_emb_final, items_emb_0 = model.forward(\n",
    "        train_sparse_edge_index)\n",
    "    # mini batching\n",
    "    user_indices, pos_item_indices, neg_item_indices = sample_mini_batch(BATCH_SIZE, train_edge_index)\n",
    "    user_indices, pos_item_indices, neg_item_indices = user_indices.to(device), pos_item_indices.to(device),neg_item_indices.to(device)\n",
    "    users_emb_final, users_emb_0 = users_emb_final[user_indices], users_emb_0[user_indices]\n",
    "    pos_items_emb_final, pos_items_emb_0 = items_emb_final[pos_item_indices], items_emb_0[pos_item_indices]\n",
    "    neg_items_emb_final, neg_items_emb_0 = items_emb_final[neg_item_indices], items_emb_0[neg_item_indices]\n",
    "\n",
    "    # loss computation\n",
    "    train_loss = bpr_loss(users_emb_final, users_emb_0, pos_items_emb_final,\n",
    "                          pos_items_emb_0, neg_items_emb_final, neg_items_emb_0, LAMBDA)\n",
    "\n",
    "    optimizer.zero_grad()\n",
    "    train_loss.backward()\n",
    "    optimizer.step()\n",
    "\n",
    "    if iter % ITERS_PER_EVAL == 0:\n",
    "        model.eval()\n",
    "        val_loss, recall, precision, ndcg = evaluation(\n",
    "            model, val_edge_index, val_sparse_edge_index, [train_edge_index], K, LAMBDA)\n",
    "        print(f\"[Iteration {iter}/{ITERATIONS}] train_loss: {round(train_loss.item(), 5)}, val_loss: {round(val_loss, 5)}, val_recall@{K}: {round(recall, 5)}, val_precision@{K}: {round(precision, 5)}, val_ndcg@{K}: {round(ndcg, 5)}\")\n",
    "        train_losses.append(train_loss.item())\n",
    "        val_losses.append(val_loss)\n",
    "        model.train()\n",
    " \n",
    "    if iter % ITERS_PER_LR_DECAY == 0 and iter != 0:\n",
    "        scheduler.step()\n",
    "    time_end = time.time()\n",
    "    #print(f\"Time taken for {time_end - time_start}  iter: \",iter)\n"
   ]
  },
  {
   "cell_type": "code",
   "execution_count": 35,
   "id": "ff1491700800b41e",
   "metadata": {
    "ExecuteTime": {
     "end_time": "2024-11-22T10:48:08.395111Z",
     "start_time": "2024-11-22T10:48:08.050463Z"
    }
   },
   "outputs": [
    {
     "data": {
      "image/png": "[encoded data removed]",
      "text/plain": [
       "<Figure size 640x480 with 1 Axes>"
      ]
     },
     "metadata": {},
     "output_type": "display_data"
    }
   ],
   "source": [
    "\n",
    "iters = [iter * ITERS_PER_EVAL for iter in range(len(train_losses))]\n",
    "plt.plot(iters, train_losses, label='train')\n",
    "plt.plot(iters, val_losses, label='validation')\n",
    "plt.xlabel('iteration')\n",
    "plt.ylabel('loss')\n",
    "plt.title('training and validation loss curves')\n",
    "plt.legend()\n",
    "plt.show()"
   ]
  }
 ],
 "metadata": {
  "kernelspec": {
   "display_name": "myproject_pytorch",
   "language": "python",
   "name": "python3"
  },
  "language_info": {
   "codemirror_mode": {
    "name": "ipython",
    "version": 3
   },
   "file_extension": ".py",
   "mimetype": "text/x-python",
   "name": "python",
   "nbconvert_exporter": "python",
   "pygments_lexer": "ipython3",
   "version": "3.8.20"
  }
 },
 "nbformat": 4,
 "nbformat_minor": 5
}
