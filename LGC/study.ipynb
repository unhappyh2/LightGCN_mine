{
 "cells": [
  {
   "cell_type": "code",
   "execution_count": 1,
   "id": "initial_id",
   "metadata": {
    "ExecuteTime": {
     "end_time": "2024-11-22T05:20:06.513065Z",
     "start_time": "2024-11-22T05:19:56.023619Z"
    },
    "collapsed": true
   },
   "outputs": [],
   "source": [
    "import time\n",
    "import random\n",
    "from tqdm import tqdm , trange\n",
    "import pandas as pd\n",
    "import numpy as np\n",
    "import matplotlib.pyplot as plt\n",
    "from sklearn.model_selection import train_test_split\n",
    " \n",
    "import torch\n",
    "from torch import nn, optim, Tensor\n",
    " \n",
    "from torch_sparse import SparseTensor, matmul\n",
    " \n",
    "from torch_geometric.utils import structured_negative_sampling\n",
    "from torch_geometric.data import download_url, extract_zip\n",
    "from torch_geometric.nn.conv.gcn_conv import gcn_norm\n",
    "from torch_geometric.nn.conv import MessagePassing\n",
    "from torch_geometric.typing import Adj\n",
    "import warnings\n",
    "warnings.simplefilter(action='ignore', category=FutureWarning)\n",
    "\n",
    "device = torch.device('cuda' if torch.cuda.is_available() else 'cpu')\n",
    "#device = torch.device('cpu')"
   ]
  },
  {
   "cell_type": "code",
   "execution_count": 6,
   "id": "1c1c75144de4599c",
   "metadata": {
    "ExecuteTime": {
     "end_time": "2024-11-22T05:20:06.523121Z",
     "start_time": "2024-11-22T05:20:06.513065Z"
    }
   },
   "outputs": [],
   "source": [
    "movie_path = '../data/ml-1m/movies.csv'\n",
    "rating_path = '../data/ml-1m/ratings.csv'"
   ]
  },
  {
   "cell_type": "code",
   "execution_count": 7,
   "id": "712965a421f6abec",
   "metadata": {
    "ExecuteTime": {
     "end_time": "2024-11-22T05:20:06.533188Z",
     "start_time": "2024-11-22T05:20:06.523121Z"
    }
   },
   "outputs": [],
   "source": [
    "def load_node_csv(path, index_col):\n",
    "    \"\"\"\n",
    "    Args:\n",
    "        path (str): 数据集路径\n",
    "        index_col (str): 数据集文件里的列索引\n",
    "    Returns:\n",
    "        dict: 列号和用户ID的索引、列好和电影ID的索引\n",
    "    \"\"\"\n",
    "    df = pd.read_csv(path, index_col=index_col)\n",
    "    mapping = {index: i for i, index in enumerate(df.index.unique())}  # enumerate()索引函数,默认索引从0开始\n",
    "    return mapping\n"
   ]
  },
  {
   "cell_type": "code",
   "execution_count": 8,
   "id": "9e348d17f4a2ece7",
   "metadata": {
    "ExecuteTime": {
     "end_time": "2024-11-22T05:20:06.840167Z",
     "start_time": "2024-11-22T05:20:06.533188Z"
    }
   },
   "outputs": [],
   "source": [
    "user_mapping = load_node_csv(rating_path, index_col='userId')\n",
    "movie_mapping = load_node_csv(movie_path, index_col='movieId')\n",
    "## movieId ：index\n",
    "## userId ：index"
   ]
  },
  {
   "cell_type": "code",
   "execution_count": 9,
   "id": "c02e1355e499137a",
   "metadata": {
    "ExecuteTime": {
     "end_time": "2024-11-22T05:20:06.849780Z",
     "start_time": "2024-11-22T05:20:06.840167Z"
    }
   },
   "outputs": [
    {
     "name": "stdout",
     "output_type": "stream",
     "text": [
      "6040\n"
     ]
    }
   ],
   "source": [
    "print(len(user_mapping))"
   ]
  },
  {
   "cell_type": "code",
   "execution_count": 10,
   "id": "fe45fb1ff8b93e2d",
   "metadata": {
    "ExecuteTime": {
     "end_time": "2024-11-22T05:20:06.860299Z",
     "start_time": "2024-11-22T05:20:06.849780Z"
    }
   },
   "outputs": [],
   "source": [
    "def load_edge_csv(path, src_index_col, src_mapping, dst_index_col, dst_mapping, link_index_col, rating_threshold=4):\n",
    "    \"\"\"\n",
    "    Args:\n",
    "        path (str): 数据集路径\n",
    "        src_index_col (str): 用户列名\n",
    "        src_mapping (dict): 行号和用户ID的映射\n",
    "        dst_index_col (str): 电影列名\n",
    "        dst_mapping (dict): 行号和电影ID的映射\n",
    "        link_index_col (str): 交互的列名\n",
    "        rating_threshold (int, optional): 决定选取多少评分交互的阈值，设置为4分\n",
    "    Returns:\n",
    "        torch.Tensor: 2*N的用户电影交互节点图\n",
    "    \"\"\"\n",
    "    df = pd.read_csv(path)\n",
    "    edge_index = None\n",
    "    src = [src_mapping[index] for index in df[src_index_col]]\n",
    "    dst = [dst_mapping[index] for index in df[dst_index_col]]\n",
    "    edge_attr = torch.from_numpy(df[link_index_col].values).view(-1, 1).to(torch.long) >= rating_threshold  # 将数组转化为tensor张量\n",
    "    edge_index = [[], []]\n",
    "    for i in range(edge_attr.shape[0]):\n",
    "        if edge_attr[i]:\n",
    "            edge_index[0].append(src[i])\n",
    "            edge_index[1].append(dst[i])\n",
    " \n",
    "    return torch.tensor(edge_index)"
   ]
  },
  {
   "cell_type": "code",
   "execution_count": 11,
   "id": "e2c293037633f788",
   "metadata": {
    "ExecuteTime": {
     "end_time": "2024-11-22T05:20:11.686961Z",
     "start_time": "2024-11-22T05:20:06.860299Z"
    }
   },
   "outputs": [],
   "source": [
    "edge_index = load_edge_csv(\n",
    "    rating_path,\n",
    "    src_index_col='userId',\n",
    "    src_mapping=user_mapping,\n",
    "    dst_index_col='movieId',\n",
    "    dst_mapping=movie_mapping,\n",
    "    link_index_col='rating',\n",
    "    rating_threshold=4,\n",
    ")"
   ]
  },
  {
   "cell_type": "code",
   "execution_count": 12,
   "id": "929549f1e50ced06",
   "metadata": {
    "ExecuteTime": {
     "end_time": "2024-11-22T05:20:11.942368Z",
     "start_time": "2024-11-22T05:20:11.686961Z"
    }
   },
   "outputs": [],
   "source": [
    "num_users, num_movies = len(user_mapping), len(movie_mapping)\n",
    "num_interactions = edge_index.shape[1]\n",
    "all_indices = [i for i in range(num_interactions)]  # 所有索引\n",
    " \n",
    "train_indices, test_indices = train_test_split(\n",
    "    all_indices, test_size=0.2, random_state=1)  # 将数据集划分成80:10的训练集:测试集\n",
    "val_indices, test_indices = train_test_split(\n",
    "    test_indices, test_size=0.5, random_state=1)  # 将测试集划分成10:10的验证集:测试集,最后的比例就是80:10:10\n",
    " "
   ]
  },
  {
   "cell_type": "code",
   "execution_count": 13,
   "id": "bf97412339aec492",
   "metadata": {
    "ExecuteTime": {
     "end_time": "2024-11-22T05:20:12.173250Z",
     "start_time": "2024-11-22T05:20:11.943981Z"
    }
   },
   "outputs": [],
   "source": [
    "train_edge_index = edge_index[:, train_indices]\n",
    "val_edge_index = edge_index[:, val_indices]\n",
    "test_edge_index = edge_index[:, test_indices]"
   ]
  },
  {
   "cell_type": "code",
   "execution_count": 14,
   "id": "437e5f54ecfde675",
   "metadata": {
    "ExecuteTime": {
     "end_time": "2024-11-22T05:20:12.188912Z",
     "start_time": "2024-11-22T05:20:12.177706Z"
    }
   },
   "outputs": [
    {
     "name": "stdout",
     "output_type": "stream",
     "text": [
      "9923\n",
      "9923\n",
      "6040\n",
      "3883\n"
     ]
    }
   ],
   "source": [
    "\n",
    "Num_train_nodes = num_users+num_movies\n",
    "print(Num_train_nodes)\n",
    "Num_val_nodes = num_users+num_movies\n",
    "print(Num_val_nodes)\n",
    "print(num_users)\n",
    "print(num_movies)"
   ]
  },
  {
   "cell_type": "code",
   "execution_count": 15,
   "id": "96abc954006df812",
   "metadata": {
    "ExecuteTime": {
     "end_time": "2024-11-22T05:20:12.311147Z",
     "start_time": "2024-11-22T05:20:12.191195Z"
    }
   },
   "outputs": [
    {
     "name": "stdout",
     "output_type": "stream",
     "text": [
      "SparseTensor(row=tensor([   0,    0,    0,  ..., 6039, 6039, 6039]),\n",
      "             col=tensor([   0,   47,  148,  ..., 3602, 3634, 3682]),\n",
      "             size=(9923, 9923), nnz=460224, density=0.47%)\n",
      "SparseTensor(row=tensor([   0,    0,    0,  ..., 6039, 6039, 6039]),\n",
      "             col=tensor([1526, 1949, 3036,  ..., 3042, 3065, 3290]),\n",
      "             size=(9923, 9923), nnz=57528, density=0.06%)\n"
     ]
    }
   ],
   "source": [
    "\n",
    "train_sparse_edge_index = SparseTensor.from_edge_index(\n",
    "    train_edge_index,\n",
    "    sparse_sizes=(Num_train_nodes, Num_train_nodes)\n",
    ")\n",
    "print(train_sparse_edge_index)\n",
    "val_sparse_edge_index = SparseTensor.from_edge_index(val_edge_index,\n",
    "    sparse_sizes=(Num_val_nodes, Num_val_nodes)\n",
    " )\n",
    "print(val_sparse_edge_index)"
   ]
  },
  {
   "cell_type": "code",
   "execution_count": 16,
   "id": "58d5dcfe4eb36bc6",
   "metadata": {
    "ExecuteTime": {
     "end_time": "2024-11-22T05:20:12.327007Z",
     "start_time": "2024-11-22T05:20:12.311147Z"
    }
   },
   "outputs": [],
   "source": [
    "def sample_mini_batch(batch_size, edge_index):\n",
    "    print(\"sample_mini_batch\")\n",
    "    \"\"\"\n",
    "    Args:\n",
    "        batch_size (int): 批大小\n",
    "        edge_index (torch.Tensor): 2*N的边列表\n",
    "    Returns:\n",
    "        tuple: user indices, positive item indices, negative item indices\n",
    "    \"\"\"\n",
    "    print(\"edge_index.max:\",edge_index.max(dim=1))\n",
    "   \n",
    "    edges = structured_negative_sampling(edge_index)\n",
    "    print(\"edges_3:\",edges[2])\n",
    "    edges = torch.stack(edges, dim=0)\n",
    "    indices = random.choices(\n",
    "        [i for i in range(edges[0].shape[0])], k=batch_size)\n",
    "    print(\"sample_edges: \",edges)\n",
    "    batch = edges[:, indices]\n",
    "    print(batch)\n",
    "    user_indices, pos_item_indices, neg_item_indices = batch[0], batch[1], batch[2]\n",
    "    return user_indices, pos_item_indices, neg_item_indices"
   ]
  },
  {
   "cell_type": "code",
   "execution_count": 17,
   "id": "dd549306d620bfa4",
   "metadata": {
    "ExecuteTime": {
     "end_time": "2024-11-22T05:20:12.342419Z",
     "start_time": "2024-11-22T05:20:12.329017Z"
    }
   },
   "outputs": [],
   "source": [
    "def sample_neg(batch_size, edge_index):\n",
    "    print(\"sample_neg\")\n",
    "    edge_index = edge_index.to(device)\n",
    "    num_nodes = edge_index.size(1)\n",
    "    user_indices, pos_item_indices = edge_index\n",
    "\n",
    "    neg_item_indices = torch.empty(0, dtype=torch.int64, device=device)  # 指定数据类型和设备\n",
    "    for i in range(num_nodes):\n",
    "        random_index = torch.randint(0, edge_index.size(1), (1,), device=device)\n",
    "        while random_index.item() == edge_index[1, i].item():\n",
    "            random_index = torch.randint(0, edge_index.size(1), (1,), device=device)\n",
    "        random_element = edge_index[1, random_index]\n",
    "        neg_item_indices = torch.cat((neg_item_indices, random_element), dim=0)\n",
    "\n",
    "    edge_index_new = torch.stack((user_indices, pos_item_indices, neg_item_indices), dim=0)\n",
    "    indices = random.choices([i for i in range(edge_index_new[0].shape[0])], k=batch_size)\n",
    "    batch = edge_index_new[:, indices]\n",
    "    user_indices, pos_item_indices, neg_item_indices = batch[0], batch[1], batch[2]\n",
    "    return user_indices, pos_item_indices, neg_item_indices\n"
   ]
  },
  {
   "cell_type": "code",
   "execution_count": 18,
   "id": "a51ea961a93417c9",
   "metadata": {
    "ExecuteTime": {
     "end_time": "2024-11-22T05:20:12.361795Z",
     "start_time": "2024-11-22T05:20:12.343393Z"
    }
   },
   "outputs": [],
   "source": [
    "class LightGCN(MessagePassing):\n",
    "    def __init__(self, num_users, num_items, embedding_dim=32, K=2, add_self_loops=False, **kwargs):\n",
    "        \"\"\"\n",
    "        Args:\n",
    "            num_users (int): 用户数量\n",
    "            num_items (int): 电影数量\n",
    "            embedding_dim (int, optional): 嵌入维度，设置为64，后续可以调整观察效果\n",
    "            K (int, optional): 传递层数，设置为3，后续可以调整观察效果\n",
    "            add_self_loops (bool, optional): 传递时加不加自身节点，设置为不加\n",
    "        \"\"\"\n",
    "        kwargs.setdefault('aggr', 'add')\n",
    "        super().__init__(**kwargs)\n",
    "        self.num_users, self.num_items = num_users, num_items\n",
    "        self.embedding_dim, self.K = embedding_dim, K\n",
    "        self.add_self_loops = add_self_loops\n",
    " \n",
    "        self.users_emb = nn.Embedding(\n",
    "            num_embeddings=self.num_users, embedding_dim=self.embedding_dim)  # e_u^0   size: nums_users * embedding_dim\n",
    "        self.items_emb = nn.Embedding(\n",
    "            num_embeddings=self.num_items, embedding_dim=self.embedding_dim)  # e_i^0   size: nums_items * embedding_dim\n",
    " \n",
    "        nn.init.normal_(self.users_emb.weight, std=0.1)  # 从给定均值和标准差的正态分布N(mean, std)中生成值，填充输入的张量或变量\n",
    "        nn.init.normal_(self.items_emb.weight, std=0.1)\n",
    " \n",
    "    def forward(self, edge_index: SparseTensor):\n",
    "        \"\"\"\n",
    "        Args:\n",
    "            edge_index (SparseTensor): 邻接矩阵\n",
    "        Returns:\n",
    "            tuple (Tensor): e_u%^k, e_u^0, e_i^k, e_i^0\n",
    "        \"\"\"\n",
    "        # compute \\tilde{A}: symmetrically normalized adjacency matrix\n",
    "        edge_index_norm = gcn_norm(\n",
    "            edge_index, add_self_loops=self.add_self_loops)\n",
    " \n",
    "        emb_0 = torch.cat([self.users_emb.weight, \n",
    "                           self.items_emb.weight]) # E^0  size: (nums_items+nums_users) * embedding_dim\n",
    "        embs = [emb_0]\n",
    "        emb_k = emb_0\n",
    "        \n",
    " \n",
    "        # 多尺度扩散\n",
    "        for i in range(self.K):\n",
    "            emb_k = self.propagate(edge_index_norm, x=emb_k)\n",
    "            embs.append(emb_k)\n",
    " \n",
    "        embs = torch.stack(embs, dim=1)\n",
    "        emb_final = torch.mean(embs, dim=1)  # E^K\n",
    " \n",
    "        users_emb_final, items_emb_final = torch.split(\n",
    "            emb_final, [self.num_users, self.num_items])  # splits into e_u^K and e_i^K\n",
    "        # returns e_u^K, e_u^0, e_i^K, e_i^0\n",
    "        return users_emb_final, self.users_emb.weight, items_emb_final, self.items_emb.weight\n",
    " \n",
    "    def message(self, x_j: Tensor) -> Tensor:\n",
    "        return x_j\n",
    " \n",
    "    def message_and_aggregate(self, adj_t: SparseTensor, x: Tensor) -> Tensor:\n",
    "        # computes \\tilde{A} @ x\n",
    "        return matmul(adj_t, x)"
   ]
  },
  {
   "cell_type": "code",
   "execution_count": 19,
   "id": "eb6219ab8587892d",
   "metadata": {
    "ExecuteTime": {
     "end_time": "2024-11-22T05:20:12.388877Z",
     "start_time": "2024-11-22T05:20:12.364308Z"
    }
   },
   "outputs": [],
   "source": [
    "model = LightGCN(num_users, num_movies)"
   ]
  },
  {
   "cell_type": "code",
   "execution_count": 20,
   "id": "b7509022b6b0a733",
   "metadata": {
    "ExecuteTime": {
     "end_time": "2024-11-22T05:20:12.413142Z",
     "start_time": "2024-11-22T05:20:12.390665Z"
    }
   },
   "outputs": [],
   "source": [
    "def bpr_loss(users_emb_final, users_emb_0, pos_items_emb_final, pos_items_emb_0, neg_items_emb_final, neg_items_emb_0, lambda_val):\n",
    "    \"\"\"\n",
    "    Args:\n",
    "        users_emb_final (torch.Tensor): e_u^k\n",
    "        users_emb_0 (torch.Tensor): e_u^0\n",
    "        pos_items_emb_final (torch.Tensor): positive e_i^k\n",
    "        pos_items_emb_0 (torch.Tensor): positive e_i^0\n",
    "        neg_items_emb_final (torch.Tensor): negative e_i^k\n",
    "        neg_items_emb_0 (torch.Tensor): negative e_i^0\n",
    "        lambda_val (float): λ的值\n",
    "    Returns:\n",
    "        torch.Tensor: loss值\n",
    "    \"\"\"\n",
    "    reg_loss = lambda_val * (users_emb_0.norm(2).pow(2) +\n",
    "                             pos_items_emb_0.norm(2).pow(2) +\n",
    "                             neg_items_emb_0.norm(2).pow(2))  # L2 loss L2范数是指向量各元素的平方和然后求平方根\n",
    " \n",
    "    pos_scores = torch.mul(users_emb_final, pos_items_emb_final)\n",
    "    pos_scores = torch.sum(pos_scores, dim=-1) # 正采样预测分数\n",
    "    neg_scores = torch.mul(users_emb_final, neg_items_emb_final)\n",
    "    neg_scores = torch.sum(neg_scores, dim=-1) # 负采样预测分数\n",
    " \n",
    "    loss = -torch.mean(torch.nn.functional.softplus(pos_scores - neg_scores)) + reg_loss\n",
    " \n",
    "    return loss\n"
   ]
  },
  {
   "cell_type": "code",
   "execution_count": 21,
   "id": "f5d20658f825f8ce",
   "metadata": {
    "ExecuteTime": {
     "end_time": "2024-11-22T05:20:12.428055Z",
     "start_time": "2024-11-22T05:20:12.415144Z"
    }
   },
   "outputs": [],
   "source": [
    "def get_user_positive_items(edge_index):\n",
    "    \"\"\"为每个用户生成正采样字典\n",
    "    Args:\n",
    "        edge_index (torch.Tensor): 2*N的边列表\n",
    "    Returns:\n",
    "        dict: 每个用户的正采样字典\n",
    "    \"\"\"\n",
    "    user_pos_items = {}\n",
    "    for i in range(edge_index.shape[1]):\n",
    "        user = edge_index[0][i].item()\n",
    "        item = edge_index[1][i].item()\n",
    "        if user not in user_pos_items:\n",
    "            user_pos_items[user] = []\n",
    "        user_pos_items[user].append(item)\n",
    "    return user_pos_items"
   ]
  },
  {
   "cell_type": "code",
   "execution_count": 22,
   "id": "6cab5302b410f70f",
   "metadata": {
    "ExecuteTime": {
     "end_time": "2024-11-22T05:20:12.443635Z",
     "start_time": "2024-11-22T05:20:12.428964Z"
    }
   },
   "outputs": [],
   "source": [
    "def RecallPrecision_ATk(groundTruth, r, k):\n",
    "    \"\"\"\n",
    "    Args:\n",
    "        groundTruth (list): 每个用户对应电影列表的高评分项\n",
    "        r (list): 是否向每个用户推荐了前k个电影的列表\n",
    "        k (intg): 确定要计算精度和召回率的前k个电影\n",
    "    Returns:\n",
    "        tuple: recall @ k, precision @ k\n",
    "    \"\"\"\n",
    "    num_correct_pred = torch.sum(r, dim=-1)  # number of correctly predicted items per user\n",
    "    # number of items liked by each user in the test set\n",
    "    user_num_liked = torch.Tensor([len(groundTruth[i])\n",
    "                                  for i in range(len(groundTruth))])\n",
    "    recall = torch.mean(num_correct_pred / user_num_liked)\n",
    "    precision = torch.mean(num_correct_pred) / k\n",
    "    return recall.item(), precision.item()"
   ]
  },
  {
   "cell_type": "code",
   "execution_count": 23,
   "id": "d36333f40d885e",
   "metadata": {
    "ExecuteTime": {
     "end_time": "2024-11-22T05:20:12.471016Z",
     "start_time": "2024-11-22T05:20:12.443635Z"
    }
   },
   "outputs": [],
   "source": [
    "def NDCGatK_r(groundTruth, r, k):\n",
    "    \"\"\"Computes Normalized Discounted Cumulative Gain (NDCG) @ k\n",
    "    Args:\n",
    "        groundTruth (list): 同上一个函数\n",
    "        r (list): 同上一个函数\n",
    "        k (int): 同上一个函数\n",
    "    Returns:\n",
    "        float: ndcg @ k\n",
    "    \"\"\"\n",
    "    assert len(r) == len(groundTruth)\n",
    " \n",
    "    test_matrix = torch.zeros((len(r), k))\n",
    " \n",
    "    for i, items in enumerate(groundTruth):\n",
    "        length = min(len(items), k)\n",
    "        test_matrix[i, :length] = 1\n",
    "    max_r = test_matrix\n",
    "    idcg = torch.sum(max_r * 1. / torch.log2(torch.arange(2, k + 2)), axis=1)\n",
    "    dcg = r * (1. / torch.log2(torch.arange(2, k + 2)))\n",
    "    dcg = torch.sum(dcg, axis=1)\n",
    "    idcg[idcg == 0.] = 1.\n",
    "    ndcg = dcg / idcg\n",
    "    ndcg[torch.isnan(ndcg)] = 0.\n",
    "    return torch.mean(ndcg).item()\n"
   ]
  },
  {
   "cell_type": "code",
   "execution_count": 24,
   "id": "869398e13b19a18a",
   "metadata": {
    "ExecuteTime": {
     "end_time": "2024-11-22T05:20:12.484573Z",
     "start_time": "2024-11-22T05:20:12.471016Z"
    }
   },
   "outputs": [],
   "source": [
    "def get_metrics(model, edge_index, exclude_edge_indices, k):\n",
    "    \"\"\"\n",
    "    Args:\n",
    "        model (LighGCN): lightgcn model\n",
    "        edge_index (torch.Tensor): 2*N列表\n",
    "        exclude_edge_indices ([type]): 2*N列表\n",
    "        k (int): 前多少个电影\n",
    "    Returns:\n",
    "        tuple: recall @ k, precision @ k, ndcg @ k\n",
    "    \"\"\"\n",
    "    user_embedding = model.users_emb.weight\n",
    "    item_embedding = model.items_emb.weight\n",
    " \n",
    "    # get ratings between every user and item - shape is num users x num movies\n",
    "    rating = torch.matmul(user_embedding, item_embedding.T)\n",
    " \n",
    "    for exclude_edge_index in exclude_edge_indices:\n",
    "        # gets all the positive items for each user from the edge index\n",
    "        user_pos_items = get_user_positive_items(exclude_edge_index)\n",
    "        # get coordinates of all edges to exclude\n",
    "        exclude_users = []\n",
    "        exclude_items = []\n",
    "        for user, items in user_pos_items.items():\n",
    "            exclude_users.extend([user] * len(items))\n",
    "            exclude_items.extend(items)\n",
    " \n",
    "        # set ratings of excluded edges to large negative value\n",
    "        rating[exclude_users, exclude_items] = -(1 << 10)\n",
    " \n",
    "    # get the top k recommended items for each user\n",
    "    _, top_K_items = torch.topk(rating, k=k)\n",
    " \n",
    "    # get all unique users in evaluated split\n",
    "    users = edge_index[0].unique()\n",
    " \n",
    "    test_user_pos_items = get_user_positive_items(edge_index)\n",
    " \n",
    "    # convert test user pos items dictionary into a list\n",
    "    test_user_pos_items_list = [\n",
    "        test_user_pos_items[user.item()] for user in users]\n",
    " \n",
    "    # determine the correctness of topk predictions\n",
    "    r = []\n",
    "    for user in users:\n",
    "        ground_truth_items = test_user_pos_items[user.item()]\n",
    "        label = list(map(lambda x: x in ground_truth_items, top_K_items[user]))\n",
    "        r.append(label)\n",
    "    r = torch.Tensor(np.array(r).astype('float'))\n",
    " \n",
    "    recall, precision = RecallPrecision_ATk(test_user_pos_items_list, r, k)\n",
    "    ndcg = NDCGatK_r(test_user_pos_items_list, r, k)\n",
    " \n",
    "    return recall, precision, ndcg "
   ]
  },
  {
   "cell_type": "code",
   "execution_count": 25,
   "id": "aacba28d4c8e056d",
   "metadata": {
    "ExecuteTime": {
     "end_time": "2024-11-22T05:20:12.504704Z",
     "start_time": "2024-11-22T05:20:12.484573Z"
    }
   },
   "outputs": [],
   "source": [
    "def get_neg( edge_index):\n",
    "    print(\"get_neg\")\n",
    "    edge_index = edge_index.to(device)\n",
    "    num_nodes = edge_index.size(1)\n",
    "    user_indices, pos_item_indices = edge_index\n",
    "\n",
    "    neg_item_indices = torch.empty(0, dtype=torch.int64, device=device)  # 指定数据类型和设备\n",
    "    for i in range(num_nodes):\n",
    "        random_index = torch.randint(0, edge_index.size(1), (1,), device=device)\n",
    "        while random_index.item() == edge_index[1, i].item():\n",
    "            random_index = torch.randint(0, edge_index.size(1), (1,), device=device)\n",
    "        random_element = edge_index[1, random_index]\n",
    "        neg_item_indices = torch.cat((neg_item_indices, random_element), dim=0)\n",
    "\n",
    "    edge_index_new = torch.stack((user_indices, pos_item_indices, neg_item_indices), dim=0)\n",
    "    indices = random.choices([i for i in range(edge_index_new[0].shape[0])], k=num_nodes)\n",
    "    batch = edge_index_new[:, indices]\n",
    "    return batch"
   ]
  },
  {
   "cell_type": "code",
   "execution_count": 26,
   "id": "8aea3bd82f854c69",
   "metadata": {
    "ExecuteTime": {
     "end_time": "2024-11-22T05:20:12.514249Z",
     "start_time": "2024-11-22T05:20:12.504704Z"
    }
   },
   "outputs": [],
   "source": [
    "def evaluation(model, edge_index, sparse_edge_index, exclude_edge_indices, k, lambda_val):\n",
    "    # get embeddings\n",
    "    users_emb_final, users_emb_0, items_emb_final, items_emb_0 = model.forward(\n",
    "        sparse_edge_index)\n",
    "    edges = get_neg(\n",
    "        edge_index)\n",
    "    user_indices, pos_item_indices, neg_item_indices = edges[0], edges[1], edges[2]\n",
    "    users_emb_final, users_emb_0 = users_emb_final[user_indices], users_emb_0[user_indices]\n",
    "    pos_items_emb_final, pos_items_emb_0 = items_emb_final[\n",
    "        pos_item_indices], items_emb_0[pos_item_indices]\n",
    "    neg_items_emb_final, neg_items_emb_0 = items_emb_final[\n",
    "        neg_item_indices], items_emb_0[neg_item_indices]\n",
    " \n",
    "    loss = bpr_loss(users_emb_final, users_emb_0, pos_items_emb_final, pos_items_emb_0,\n",
    "                    neg_items_emb_final, neg_items_emb_0, lambda_val).item()\n",
    " \n",
    "    recall, precision, ndcg = get_metrics(\n",
    "        model, edge_index, exclude_edge_indices, k)\n",
    " \n",
    "    return loss, recall, precision, ndcg"
   ]
  },
  {
   "cell_type": "code",
   "execution_count": 27,
   "id": "956e76152ea510a9",
   "metadata": {
    "ExecuteTime": {
     "end_time": "2024-11-22T06:26:47.849959Z",
     "start_time": "2024-11-22T06:26:47.834362Z"
    }
   },
   "outputs": [],
   "source": [
    "ITERATIONS = 256\n",
    "BATCH_SIZE = 32\n",
    "LR = 1e-3\n",
    "ITERS_PER_EVAL = 8\n",
    "ITERS_PER_LR_DECAY = 10\n",
    "K = 20\n",
    "LAMBDA = 1e-6"
   ]
  },
  {
   "cell_type": "code",
   "execution_count": 28,
   "id": "99427fb65a7b1d2b",
   "metadata": {
    "ExecuteTime": {
     "end_time": "2024-11-22T06:26:47.913440Z",
     "start_time": "2024-11-22T06:26:47.881740Z"
    }
   },
   "outputs": [],
   "source": [
    "model = model.to(device)\n",
    "model.train()\n",
    " \n",
    "optimizer = optim.Adam(model.parameters(), lr=LR)\n",
    "scheduler = optim.lr_scheduler.ExponentialLR(optimizer, gamma=0.95)\n",
    "\n",
    "edge_index = edge_index.to(device)\n",
    "train_edge_index = train_edge_index.to(device)\n",
    "train_sparse_edge_index = train_sparse_edge_index.to(device)\n",
    " \n",
    "val_edge_index = val_edge_index.to(device)\n",
    "val_sparse_edge_index = val_sparse_edge_index.to(device)"
   ]
  },
  {
   "cell_type": "code",
   "execution_count": 29,
   "id": "6395cb1cac29ba83",
   "metadata": {
    "ExecuteTime": {
     "end_time": "2024-11-22T06:26:47.929064Z",
     "start_time": "2024-11-22T06:26:47.913440Z"
    }
   },
   "outputs": [
    {
     "name": "stdout",
     "output_type": "stream",
     "text": [
      "SparseTensor(row=tensor([   0,    0,    0,  ..., 6039, 6039, 6039], device='cuda:0'),\n",
      "             col=tensor([   0,   47,  148,  ..., 3602, 3634, 3682], device='cuda:0'),\n",
      "             size=(9923, 9923), nnz=460224, density=0.47%)\n"
     ]
    }
   ],
   "source": [
    "print(train_sparse_edge_index)"
   ]
  },
  {
   "cell_type": "code",
   "execution_count": 35,
   "id": "8212c8e68cc08d22",
   "metadata": {
    "ExecuteTime": {
     "end_time": "2024-11-22T10:48:05.228057Z",
     "start_time": "2024-11-22T06:26:47.929064Z"
    }
   },
   "outputs": [
    {
     "name": "stderr",
     "output_type": "stream",
     "text": [
      "ITERATIONS=0:   0%|          | 0/256 [00:00<?, ?it/s]"
     ]
    },
    {
     "name": "stdout",
     "output_type": "stream",
     "text": [
      "iter:  0\n",
      "sample_neg\n",
      "get_neg\n"
     ]
    },
    {
     "name": "stderr",
     "output_type": "stream",
     "text": [
      "ITERATIONS=0:   0%|          | 1/256 [03:23<14:25:51, 203.73s/it]"
     ]
    },
    {
     "name": "stdout",
     "output_type": "stream",
     "text": [
      "[Iteration 0/256] train_loss: -0.69361, val_loss: -0.6371, val_recall@20: 0.00622, val_precision@20: 0.00316, val_ndcg@20: 0.00456\n",
      "Time taken for 203.73258805274963 \n",
      "iter:  1\n",
      "sample_neg\n"
     ]
    },
    {
     "name": "stderr",
     "output_type": "stream",
     "text": [
      "ITERATIONS=0:   1%|          | 2/256 [05:03<10:03:09, 142.48s/it]"
     ]
    },
    {
     "name": "stdout",
     "output_type": "stream",
     "text": [
      "Time taken for 99.60006999969482 \n",
      "iter:  2\n",
      "sample_neg\n"
     ]
    },
    {
     "name": "stderr",
     "output_type": "stream",
     "text": [
      "ITERATIONS=0:   1%|          | 3/256 [06:43<8:39:38, 123.23s/it] "
     ]
    },
    {
     "name": "stdout",
     "output_type": "stream",
     "text": [
      "Time taken for 100.33357262611389 \n",
      "iter:  3\n",
      "sample_neg\n"
     ]
    },
    {
     "name": "stderr",
     "output_type": "stream",
     "text": [
      "ITERATIONS=0:   2%|▏         | 4/256 [08:17<7:48:10, 111.47s/it]"
     ]
    },
    {
     "name": "stdout",
     "output_type": "stream",
     "text": [
      "Time taken for 93.43873596191406 \n",
      "iter:  4\n",
      "sample_neg\n"
     ]
    },
    {
     "name": "stderr",
     "output_type": "stream",
     "text": [
      "ITERATIONS=0:   2%|▏         | 5/256 [09:48<7:15:27, 104.09s/it]"
     ]
    },
    {
     "name": "stdout",
     "output_type": "stream",
     "text": [
      "Time taken for 91.01057076454163 \n",
      "iter:  5\n",
      "sample_neg\n"
     ]
    },
    {
     "name": "stderr",
     "output_type": "stream",
     "text": [
      "ITERATIONS=0:   2%|▏         | 6/256 [11:18<6:54:37, 99.51s/it] "
     ]
    },
    {
     "name": "stdout",
     "output_type": "stream",
     "text": [
      "Time taken for 90.61724758148193 \n",
      "iter:  6\n",
      "sample_neg\n"
     ]
    },
    {
     "name": "stderr",
     "output_type": "stream",
     "text": [
      "ITERATIONS=0:   3%|▎         | 7/256 [12:48<6:39:58, 96.38s/it]"
     ]
    },
    {
     "name": "stdout",
     "output_type": "stream",
     "text": [
      "Time taken for 89.9258143901825 \n",
      "iter:  7\n",
      "sample_neg\n"
     ]
    },
    {
     "name": "stderr",
     "output_type": "stream",
     "text": [
      "ITERATIONS=0:   3%|▎         | 8/256 [14:20<6:32:21, 94.93s/it]"
     ]
    },
    {
     "name": "stdout",
     "output_type": "stream",
     "text": [
      "Time taken for 91.81686663627625 \n",
      "iter:  8\n",
      "sample_neg\n",
      "get_neg\n"
     ]
    },
    {
     "name": "stderr",
     "output_type": "stream",
     "text": [
      "ITERATIONS=0:   4%|▎         | 9/256 [17:30<8:33:43, 124.79s/it]"
     ]
    },
    {
     "name": "stdout",
     "output_type": "stream",
     "text": [
      "[Iteration 8/256] train_loss: -0.69155, val_loss: -0.63705, val_recall@20: 0.00615, val_precision@20: 0.00316, val_ndcg@20: 0.00455\n",
      "Time taken for 190.46601843833923 \n",
      "iter:  9\n",
      "sample_neg\n"
     ]
    },
    {
     "name": "stderr",
     "output_type": "stream",
     "text": [
      "ITERATIONS=0:   4%|▍         | 10/256 [19:02<7:49:16, 114.46s/it]"
     ]
    },
    {
     "name": "stdout",
     "output_type": "stream",
     "text": [
      "Time taken for 91.3197066783905 \n",
      "iter:  10\n",
      "sample_neg\n"
     ]
    },
    {
     "name": "stderr",
     "output_type": "stream",
     "text": [
      "ITERATIONS=0:   4%|▍         | 11/256 [20:33<7:17:56, 107.25s/it]"
     ]
    },
    {
     "name": "stdout",
     "output_type": "stream",
     "text": [
      "Time taken for 90.90292811393738 \n",
      "iter:  11\n",
      "sample_neg\n"
     ]
    },
    {
     "name": "stderr",
     "output_type": "stream",
     "text": [
      "ITERATIONS=0:   5%|▍         | 12/256 [22:04<6:56:55, 102.52s/it]"
     ]
    },
    {
     "name": "stdout",
     "output_type": "stream",
     "text": [
      "Time taken for 91.71695876121521 \n",
      "iter:  12\n",
      "sample_neg\n"
     ]
    },
    {
     "name": "stderr",
     "output_type": "stream",
     "text": [
      "ITERATIONS=0:   5%|▌         | 13/256 [23:36<6:41:45, 99.20s/it] "
     ]
    },
    {
     "name": "stdout",
     "output_type": "stream",
     "text": [
      "Time taken for 91.54305458068848 \n",
      "iter:  13\n",
      "sample_neg\n"
     ]
    },
    {
     "name": "stderr",
     "output_type": "stream",
     "text": [
      "ITERATIONS=0:   5%|▌         | 14/256 [25:07<6:29:55, 96.67s/it]"
     ]
    },
    {
     "name": "stdout",
     "output_type": "stream",
     "text": [
      "Time taken for 90.84359669685364 \n",
      "iter:  14\n",
      "sample_neg\n"
     ]
    },
    {
     "name": "stderr",
     "output_type": "stream",
     "text": [
      "ITERATIONS=0:   6%|▌         | 15/256 [26:38<6:21:12, 94.91s/it]"
     ]
    },
    {
     "name": "stdout",
     "output_type": "stream",
     "text": [
      "Time taken for 90.80653262138367 \n",
      "iter:  15\n",
      "sample_neg\n"
     ]
    },
    {
     "name": "stderr",
     "output_type": "stream",
     "text": [
      "ITERATIONS=0:   6%|▋         | 16/256 [28:08<6:14:06, 93.53s/it]"
     ]
    },
    {
     "name": "stdout",
     "output_type": "stream",
     "text": [
      "Time taken for 90.30724000930786 \n",
      "iter:  16\n",
      "sample_neg\n",
      "get_neg\n"
     ]
    },
    {
     "name": "stderr",
     "output_type": "stream",
     "text": [
      "ITERATIONS=0:   7%|▋         | 17/256 [31:19<8:09:36, 122.92s/it]"
     ]
    },
    {
     "name": "stdout",
     "output_type": "stream",
     "text": [
      "[Iteration 16/256] train_loss: -0.69318, val_loss: -0.6371, val_recall@20: 0.00617, val_precision@20: 0.00314, val_ndcg@20: 0.00456\n",
      "Time taken for 191.26549291610718 \n",
      "iter:  17\n",
      "sample_neg\n"
     ]
    },
    {
     "name": "stderr",
     "output_type": "stream",
     "text": [
      "ITERATIONS=0:   7%|▋         | 18/256 [32:50<7:29:36, 113.35s/it]"
     ]
    },
    {
     "name": "stdout",
     "output_type": "stream",
     "text": [
      "Time taken for 91.07648491859436 \n",
      "iter:  18\n",
      "sample_neg\n"
     ]
    },
    {
     "name": "stderr",
     "output_type": "stream",
     "text": [
      "ITERATIONS=0:   7%|▋         | 19/256 [34:22<7:01:32, 106.72s/it]"
     ]
    },
    {
     "name": "stdout",
     "output_type": "stream",
     "text": [
      "Time taken for 91.28219389915466 \n",
      "iter:  19\n",
      "sample_neg\n"
     ]
    },
    {
     "name": "stderr",
     "output_type": "stream",
     "text": [
      "ITERATIONS=0:   8%|▊         | 20/256 [35:52<6:40:51, 101.91s/it]"
     ]
    },
    {
     "name": "stdout",
     "output_type": "stream",
     "text": [
      "Time taken for 90.71179056167603 \n",
      "iter:  20\n",
      "sample_neg\n"
     ]
    },
    {
     "name": "stderr",
     "output_type": "stream",
     "text": [
      "ITERATIONS=0:   8%|▊         | 21/256 [37:22<6:24:56, 98.28s/it] "
     ]
    },
    {
     "name": "stdout",
     "output_type": "stream",
     "text": [
      "Time taken for 89.81646919250488 \n",
      "iter:  21\n",
      "sample_neg\n"
     ]
    },
    {
     "name": "stderr",
     "output_type": "stream",
     "text": [
      "ITERATIONS=0:   9%|▊         | 22/256 [38:53<6:14:38, 96.06s/it]"
     ]
    },
    {
     "name": "stdout",
     "output_type": "stream",
     "text": [
      "Time taken for 90.88170170783997 \n",
      "iter:  22\n",
      "sample_neg\n"
     ]
    },
    {
     "name": "stderr",
     "output_type": "stream",
     "text": [
      "ITERATIONS=0:   9%|▉         | 23/256 [40:23<6:06:33, 94.39s/it]"
     ]
    },
    {
     "name": "stdout",
     "output_type": "stream",
     "text": [
      "Time taken for 90.47923445701599 \n",
      "iter:  23\n",
      "sample_neg\n"
     ]
    },
    {
     "name": "stderr",
     "output_type": "stream",
     "text": [
      "ITERATIONS=0:   9%|▉         | 24/256 [41:55<6:01:20, 93.45s/it]"
     ]
    },
    {
     "name": "stdout",
     "output_type": "stream",
     "text": [
      "Time taken for 91.26021957397461 \n",
      "iter:  24\n",
      "sample_neg\n",
      "get_neg\n"
     ]
    },
    {
     "name": "stderr",
     "output_type": "stream",
     "text": [
      "ITERATIONS=0:  10%|▉         | 25/256 [45:05<7:51:27, 122.46s/it]"
     ]
    },
    {
     "name": "stdout",
     "output_type": "stream",
     "text": [
      "[Iteration 24/256] train_loss: -0.69282, val_loss: -0.63697, val_recall@20: 0.00601, val_precision@20: 0.00308, val_ndcg@20: 0.00446\n",
      "Time taken for 190.11965894699097 \n",
      "iter:  25\n",
      "sample_neg\n"
     ]
    },
    {
     "name": "stderr",
     "output_type": "stream",
     "text": [
      "ITERATIONS=0:  10%|█         | 26/256 [46:36<7:13:43, 113.15s/it]"
     ]
    },
    {
     "name": "stdout",
     "output_type": "stream",
     "text": [
      "Time taken for 91.4311785697937 \n",
      "iter:  26\n",
      "sample_neg\n"
     ]
    },
    {
     "name": "stderr",
     "output_type": "stream",
     "text": [
      "ITERATIONS=0:  11%|█         | 27/256 [48:07<6:46:27, 106.50s/it]"
     ]
    },
    {
     "name": "stdout",
     "output_type": "stream",
     "text": [
      "Time taken for 90.97624659538269 \n",
      "iter:  27\n",
      "sample_neg\n"
     ]
    },
    {
     "name": "stderr",
     "output_type": "stream",
     "text": [
      "ITERATIONS=0:  11%|█         | 28/256 [49:37<6:26:07, 101.61s/it]"
     ]
    },
    {
     "name": "stdout",
     "output_type": "stream",
     "text": [
      "Time taken for 90.2177095413208 \n",
      "iter:  28\n",
      "sample_neg\n"
     ]
    },
    {
     "name": "stderr",
     "output_type": "stream",
     "text": [
      "ITERATIONS=0:  11%|█▏        | 29/256 [51:08<6:12:02, 98.34s/it] "
     ]
    },
    {
     "name": "stdout",
     "output_type": "stream",
     "text": [
      "Time taken for 90.70212292671204 \n",
      "iter:  29\n",
      "sample_neg\n"
     ]
    },
    {
     "name": "stderr",
     "output_type": "stream",
     "text": [
      "ITERATIONS=0:  12%|█▏        | 30/256 [52:39<6:01:34, 95.99s/it]"
     ]
    },
    {
     "name": "stdout",
     "output_type": "stream",
     "text": [
      "Time taken for 90.52137041091919 \n",
      "iter:  30\n",
      "sample_neg\n"
     ]
    },
    {
     "name": "stderr",
     "output_type": "stream",
     "text": [
      "ITERATIONS=0:  12%|█▏        | 31/256 [54:09<5:53:11, 94.19s/it]"
     ]
    },
    {
     "name": "stdout",
     "output_type": "stream",
     "text": [
      "Time taken for 89.96693634986877 \n",
      "iter:  31\n",
      "sample_neg\n"
     ]
    },
    {
     "name": "stderr",
     "output_type": "stream",
     "text": [
      "ITERATIONS=0:  12%|█▎        | 32/256 [55:40<5:48:24, 93.32s/it]"
     ]
    },
    {
     "name": "stdout",
     "output_type": "stream",
     "text": [
      "Time taken for 91.30623936653137 \n",
      "iter:  32\n",
      "sample_neg\n",
      "get_neg\n"
     ]
    },
    {
     "name": "stderr",
     "output_type": "stream",
     "text": [
      "ITERATIONS=0:  13%|█▎        | 33/256 [58:50<7:35:10, 122.47s/it]"
     ]
    },
    {
     "name": "stdout",
     "output_type": "stream",
     "text": [
      "[Iteration 32/256] train_loss: -0.69366, val_loss: -0.637, val_recall@20: 0.00605, val_precision@20: 0.00311, val_ndcg@20: 0.00448\n",
      "Time taken for 190.47907543182373 \n",
      "iter:  33\n",
      "sample_neg\n"
     ]
    },
    {
     "name": "stderr",
     "output_type": "stream",
     "text": [
      "ITERATIONS=0:  13%|█▎        | 34/256 [1:00:21<6:58:17, 113.05s/it]"
     ]
    },
    {
     "name": "stdout",
     "output_type": "stream",
     "text": [
      "Time taken for 91.07049322128296 \n",
      "iter:  34\n",
      "sample_neg\n"
     ]
    },
    {
     "name": "stderr",
     "output_type": "stream",
     "text": [
      "ITERATIONS=0:  14%|█▎        | 35/256 [1:01:52<6:31:22, 106.25s/it]"
     ]
    },
    {
     "name": "stdout",
     "output_type": "stream",
     "text": [
      "Time taken for 90.39850163459778 \n",
      "iter:  35\n",
      "sample_neg\n"
     ]
    },
    {
     "name": "stderr",
     "output_type": "stream",
     "text": [
      "ITERATIONS=0:  14%|█▍        | 36/256 [1:03:27<6:16:53, 102.79s/it]"
     ]
    },
    {
     "name": "stdout",
     "output_type": "stream",
     "text": [
      "Time taken for 94.69468808174133 \n",
      "iter:  36\n",
      "sample_neg\n"
     ]
    },
    {
     "name": "stderr",
     "output_type": "stream",
     "text": [
      "ITERATIONS=0:  14%|█▍        | 37/256 [1:05:07<6:13:04, 102.21s/it]"
     ]
    },
    {
     "name": "stdout",
     "output_type": "stream",
     "text": [
      "Time taken for 100.87957286834717 \n",
      "iter:  37\n",
      "sample_neg\n"
     ]
    },
    {
     "name": "stderr",
     "output_type": "stream",
     "text": [
      "ITERATIONS=0:  15%|█▍        | 38/256 [1:06:46<6:07:54, 101.26s/it]"
     ]
    },
    {
     "name": "stdout",
     "output_type": "stream",
     "text": [
      "Time taken for 99.02451062202454 \n",
      "iter:  38\n",
      "sample_neg\n"
     ]
    },
    {
     "name": "stderr",
     "output_type": "stream",
     "text": [
      "ITERATIONS=0:  15%|█▌        | 39/256 [1:08:27<6:04:55, 100.90s/it]"
     ]
    },
    {
     "name": "stdout",
     "output_type": "stream",
     "text": [
      "Time taken for 100.06088709831238 \n",
      "iter:  39\n",
      "sample_neg\n"
     ]
    },
    {
     "name": "stderr",
     "output_type": "stream",
     "text": [
      "ITERATIONS=0:  16%|█▌        | 40/256 [1:10:04<5:59:56, 99.98s/it] "
     ]
    },
    {
     "name": "stdout",
     "output_type": "stream",
     "text": [
      "Time taken for 97.83984303474426 \n",
      "iter:  40\n",
      "sample_neg\n",
      "get_neg\n"
     ]
    },
    {
     "name": "stderr",
     "output_type": "stream",
     "text": [
      "ITERATIONS=0:  16%|█▌        | 41/256 [1:13:46<8:09:01, 136.47s/it]"
     ]
    },
    {
     "name": "stdout",
     "output_type": "stream",
     "text": [
      "[Iteration 40/256] train_loss: -0.69294, val_loss: -0.63699, val_recall@20: 0.00616, val_precision@20: 0.00311, val_ndcg@20: 0.00452\n",
      "Time taken for 221.60909032821655 \n",
      "iter:  41\n",
      "sample_neg\n"
     ]
    },
    {
     "name": "stderr",
     "output_type": "stream",
     "text": [
      "ITERATIONS=0:  16%|█▋        | 42/256 [1:15:34<7:36:12, 127.91s/it]"
     ]
    },
    {
     "name": "stdout",
     "output_type": "stream",
     "text": [
      "Time taken for 107.92516231536865 \n",
      "iter:  42\n",
      "sample_neg\n"
     ]
    },
    {
     "name": "stderr",
     "output_type": "stream",
     "text": [
      "ITERATIONS=0:  17%|█▋        | 43/256 [1:17:21<7:11:44, 121.62s/it]"
     ]
    },
    {
     "name": "stdout",
     "output_type": "stream",
     "text": [
      "Time taken for 106.93465280532837 \n",
      "iter:  43\n",
      "sample_neg\n"
     ]
    },
    {
     "name": "stderr",
     "output_type": "stream",
     "text": [
      "ITERATIONS=0:  17%|█▋        | 44/256 [1:19:11<6:57:41, 118.21s/it]"
     ]
    },
    {
     "name": "stdout",
     "output_type": "stream",
     "text": [
      "Time taken for 110.27441573143005 \n",
      "iter:  44\n",
      "sample_neg\n"
     ]
    },
    {
     "name": "stderr",
     "output_type": "stream",
     "text": [
      "ITERATIONS=0:  18%|█▊        | 45/256 [1:20:58<6:43:24, 114.71s/it]"
     ]
    },
    {
     "name": "stdout",
     "output_type": "stream",
     "text": [
      "Time taken for 106.54109740257263 \n",
      "iter:  45\n",
      "sample_neg\n"
     ]
    },
    {
     "name": "stderr",
     "output_type": "stream",
     "text": [
      "ITERATIONS=0:  18%|█▊        | 46/256 [1:22:40<6:28:18, 110.95s/it]"
     ]
    },
    {
     "name": "stdout",
     "output_type": "stream",
     "text": [
      "Time taken for 102.15458178520203 \n",
      "iter:  46\n",
      "sample_neg\n"
     ]
    },
    {
     "name": "stderr",
     "output_type": "stream",
     "text": [
      "ITERATIONS=0:  18%|█▊        | 47/256 [1:24:17<6:12:14, 106.86s/it]"
     ]
    },
    {
     "name": "stdout",
     "output_type": "stream",
     "text": [
      "Time taken for 97.34426689147949 \n",
      "iter:  47\n",
      "sample_neg\n"
     ]
    },
    {
     "name": "stderr",
     "output_type": "stream",
     "text": [
      "ITERATIONS=0:  19%|█▉        | 48/256 [1:26:07<6:13:34, 107.76s/it]"
     ]
    },
    {
     "name": "stdout",
     "output_type": "stream",
     "text": [
      "Time taken for 109.85327982902527 \n",
      "iter:  48\n",
      "sample_neg\n",
      "get_neg\n"
     ]
    },
    {
     "name": "stderr",
     "output_type": "stream",
     "text": [
      "ITERATIONS=0:  19%|█▉        | 49/256 [1:30:09<8:31:09, 148.16s/it]"
     ]
    },
    {
     "name": "stdout",
     "output_type": "stream",
     "text": [
      "[Iteration 48/256] train_loss: -0.69244, val_loss: -0.63692, val_recall@20: 0.0061, val_precision@20: 0.00308, val_ndcg@20: 0.00452\n",
      "Time taken for 242.42915725708008 \n",
      "iter:  49\n",
      "sample_neg\n"
     ]
    },
    {
     "name": "stderr",
     "output_type": "stream",
     "text": [
      "ITERATIONS=0:  20%|█▉        | 50/256 [1:31:51<7:40:10, 134.03s/it]"
     ]
    },
    {
     "name": "stdout",
     "output_type": "stream",
     "text": [
      "Time taken for 101.06172060966492 \n",
      "iter:  50\n",
      "sample_neg\n"
     ]
    },
    {
     "name": "stderr",
     "output_type": "stream",
     "text": [
      "ITERATIONS=0:  20%|█▉        | 51/256 [1:33:32<7:04:58, 124.38s/it]"
     ]
    },
    {
     "name": "stdout",
     "output_type": "stream",
     "text": [
      "Time taken for 101.86023449897766 \n",
      "iter:  51\n",
      "sample_neg\n"
     ]
    },
    {
     "name": "stderr",
     "output_type": "stream",
     "text": [
      "ITERATIONS=0:  20%|██        | 52/256 [1:35:35<7:01:24, 123.94s/it]"
     ]
    },
    {
     "name": "stdout",
     "output_type": "stream",
     "text": [
      "Time taken for 122.91611671447754 \n",
      "iter:  52\n",
      "sample_neg\n"
     ]
    },
    {
     "name": "stderr",
     "output_type": "stream",
     "text": [
      "ITERATIONS=0:  21%|██        | 53/256 [1:37:41<7:01:24, 124.55s/it]"
     ]
    },
    {
     "name": "stdout",
     "output_type": "stream",
     "text": [
      "Time taken for 125.97955918312073 \n",
      "iter:  53\n",
      "sample_neg\n"
     ]
    },
    {
     "name": "stderr",
     "output_type": "stream",
     "text": [
      "ITERATIONS=0:  21%|██        | 54/256 [1:39:45<6:58:46, 124.39s/it]"
     ]
    },
    {
     "name": "stdout",
     "output_type": "stream",
     "text": [
      "Time taken for 124.00787949562073 \n",
      "iter:  54\n",
      "sample_neg\n"
     ]
    },
    {
     "name": "stderr",
     "output_type": "stream",
     "text": [
      "ITERATIONS=0:  21%|██▏       | 55/256 [1:41:45<6:52:12, 123.05s/it]"
     ]
    },
    {
     "name": "stdout",
     "output_type": "stream",
     "text": [
      "Time taken for 119.92042231559753 \n",
      "iter:  55\n",
      "sample_neg\n"
     ]
    },
    {
     "name": "stderr",
     "output_type": "stream",
     "text": [
      "ITERATIONS=0:  22%|██▏       | 56/256 [1:43:49<6:51:20, 123.40s/it]"
     ]
    },
    {
     "name": "stdout",
     "output_type": "stream",
     "text": [
      "Time taken for 124.22913241386414 \n",
      "iter:  56\n",
      "sample_neg\n",
      "get_neg\n"
     ]
    },
    {
     "name": "stderr",
     "output_type": "stream",
     "text": [
      "ITERATIONS=0:  22%|██▏       | 57/256 [1:48:17<9:12:20, 166.53s/it]"
     ]
    },
    {
     "name": "stdout",
     "output_type": "stream",
     "text": [
      "[Iteration 56/256] train_loss: -0.69306, val_loss: -0.6369, val_recall@20: 0.00606, val_precision@20: 0.00312, val_ndcg@20: 0.00452\n",
      "Time taken for 267.1745193004608 \n",
      "iter:  57\n",
      "sample_neg\n"
     ]
    },
    {
     "name": "stderr",
     "output_type": "stream",
     "text": [
      "ITERATIONS=0:  23%|██▎       | 58/256 [1:50:28<8:35:10, 156.12s/it]"
     ]
    },
    {
     "name": "stdout",
     "output_type": "stream",
     "text": [
      "Time taken for 131.8043565750122 \n",
      "iter:  58\n",
      "sample_neg\n"
     ]
    },
    {
     "name": "stderr",
     "output_type": "stream",
     "text": [
      "ITERATIONS=0:  23%|██▎       | 59/256 [1:52:35<8:03:30, 147.26s/it]"
     ]
    },
    {
     "name": "stdout",
     "output_type": "stream",
     "text": [
      "Time taken for 126.59720158576965 \n",
      "iter:  59\n",
      "sample_neg\n"
     ]
    },
    {
     "name": "stderr",
     "output_type": "stream",
     "text": [
      "ITERATIONS=0:  23%|██▎       | 60/256 [1:54:49<7:48:26, 143.40s/it]"
     ]
    },
    {
     "name": "stdout",
     "output_type": "stream",
     "text": [
      "Time taken for 134.38647055625916 \n",
      "iter:  60\n",
      "sample_neg\n"
     ]
    },
    {
     "name": "stderr",
     "output_type": "stream",
     "text": [
      "ITERATIONS=0:  24%|██▍       | 61/256 [1:56:33<7:07:24, 131.51s/it]"
     ]
    },
    {
     "name": "stdout",
     "output_type": "stream",
     "text": [
      "Time taken for 103.77242493629456 \n",
      "iter:  61\n",
      "sample_neg\n"
     ]
    },
    {
     "name": "stderr",
     "output_type": "stream",
     "text": [
      "ITERATIONS=0:  24%|██▍       | 62/256 [1:58:14<6:35:02, 122.18s/it]"
     ]
    },
    {
     "name": "stdout",
     "output_type": "stream",
     "text": [
      "Time taken for 100.40516328811646 \n",
      "iter:  62\n",
      "sample_neg\n"
     ]
    },
    {
     "name": "stderr",
     "output_type": "stream",
     "text": [
      "ITERATIONS=0:  25%|██▍       | 63/256 [1:59:54<6:12:27, 115.79s/it]"
     ]
    },
    {
     "name": "stdout",
     "output_type": "stream",
     "text": [
      "Time taken for 100.8893973827362 \n",
      "iter:  63\n",
      "sample_neg\n"
     ]
    },
    {
     "name": "stderr",
     "output_type": "stream",
     "text": [
      "ITERATIONS=0:  25%|██▌       | 64/256 [2:01:35<5:55:35, 111.12s/it]"
     ]
    },
    {
     "name": "stdout",
     "output_type": "stream",
     "text": [
      "Time taken for 100.21790313720703 \n",
      "iter:  64\n",
      "sample_neg\n",
      "get_neg\n"
     ]
    },
    {
     "name": "stderr",
     "output_type": "stream",
     "text": [
      "ITERATIONS=0:  25%|██▌       | 65/256 [2:05:03<7:26:18, 140.20s/it]"
     ]
    },
    {
     "name": "stdout",
     "output_type": "stream",
     "text": [
      "[Iteration 64/256] train_loss: -0.69368, val_loss: -0.6369, val_recall@20: 0.00606, val_precision@20: 0.00312, val_ndcg@20: 0.00455\n",
      "Time taken for 208.05636429786682 \n",
      "iter:  65\n",
      "sample_neg\n"
     ]
    },
    {
     "name": "stderr",
     "output_type": "stream",
     "text": [
      "ITERATIONS=0:  26%|██▌       | 66/256 [2:06:42<6:45:28, 128.05s/it]"
     ]
    },
    {
     "name": "stdout",
     "output_type": "stream",
     "text": [
      "Time taken for 99.67911744117737 \n",
      "iter:  66\n",
      "sample_neg\n"
     ]
    },
    {
     "name": "stderr",
     "output_type": "stream",
     "text": [
      "ITERATIONS=0:  26%|██▌       | 67/256 [2:08:22<6:16:36, 119.56s/it]"
     ]
    },
    {
     "name": "stdout",
     "output_type": "stream",
     "text": [
      "Time taken for 99.73749017715454 \n",
      "iter:  67\n",
      "sample_neg\n"
     ]
    },
    {
     "name": "stderr",
     "output_type": "stream",
     "text": [
      "ITERATIONS=0:  27%|██▋       | 68/256 [2:10:02<5:56:20, 113.73s/it]"
     ]
    },
    {
     "name": "stdout",
     "output_type": "stream",
     "text": [
      "Time taken for 100.11913657188416 \n",
      "iter:  68\n",
      "sample_neg\n"
     ]
    },
    {
     "name": "stderr",
     "output_type": "stream",
     "text": [
      "ITERATIONS=0:  27%|██▋       | 69/256 [2:11:43<5:41:48, 109.67s/it]"
     ]
    },
    {
     "name": "stdout",
     "output_type": "stream",
     "text": [
      "Time taken for 100.21194076538086 \n",
      "iter:  69\n",
      "sample_neg\n"
     ]
    },
    {
     "name": "stderr",
     "output_type": "stream",
     "text": [
      "ITERATIONS=0:  27%|██▋       | 70/256 [2:13:22<5:30:18, 106.55s/it]"
     ]
    },
    {
     "name": "stdout",
     "output_type": "stream",
     "text": [
      "Time taken for 99.26261115074158 \n",
      "iter:  70\n",
      "sample_neg\n"
     ]
    },
    {
     "name": "stderr",
     "output_type": "stream",
     "text": [
      "ITERATIONS=0:  28%|██▊       | 71/256 [2:15:03<5:23:47, 105.02s/it]"
     ]
    },
    {
     "name": "stdout",
     "output_type": "stream",
     "text": [
      "Time taken for 101.43558073043823 \n",
      "iter:  71\n",
      "sample_neg\n"
     ]
    },
    {
     "name": "stderr",
     "output_type": "stream",
     "text": [
      "ITERATIONS=0:  28%|██▊       | 72/256 [2:16:48<5:21:40, 104.89s/it]"
     ]
    },
    {
     "name": "stdout",
     "output_type": "stream",
     "text": [
      "Time taken for 104.61345410346985 \n",
      "iter:  72\n",
      "sample_neg\n",
      "get_neg\n"
     ]
    },
    {
     "name": "stderr",
     "output_type": "stream",
     "text": [
      "ITERATIONS=0:  29%|██▊       | 73/256 [2:21:03<7:37:44, 150.08s/it]"
     ]
    },
    {
     "name": "stdout",
     "output_type": "stream",
     "text": [
      "[Iteration 72/256] train_loss: -0.69377, val_loss: -0.63694, val_recall@20: 0.00607, val_precision@20: 0.00312, val_ndcg@20: 0.00455\n",
      "Time taken for 255.51115655899048 \n",
      "iter:  73\n",
      "sample_neg\n"
     ]
    },
    {
     "name": "stderr",
     "output_type": "stream",
     "text": [
      "ITERATIONS=0:  29%|██▉       | 74/256 [2:23:04<7:08:06, 141.13s/it]"
     ]
    },
    {
     "name": "stdout",
     "output_type": "stream",
     "text": [
      "Time taken for 120.24732851982117 \n",
      "iter:  74\n",
      "sample_neg\n"
     ]
    },
    {
     "name": "stderr",
     "output_type": "stream",
     "text": [
      "ITERATIONS=0:  29%|██▉       | 75/256 [2:25:07<6:49:59, 135.91s/it]"
     ]
    },
    {
     "name": "stdout",
     "output_type": "stream",
     "text": [
      "Time taken for 123.7266788482666 \n",
      "iter:  75\n",
      "sample_neg\n"
     ]
    },
    {
     "name": "stderr",
     "output_type": "stream",
     "text": [
      "ITERATIONS=0:  30%|██▉       | 76/256 [2:27:10<6:36:01, 132.01s/it]"
     ]
    },
    {
     "name": "stdout",
     "output_type": "stream",
     "text": [
      "Time taken for 122.91079807281494 \n",
      "iter:  76\n",
      "sample_neg\n"
     ]
    },
    {
     "name": "stderr",
     "output_type": "stream",
     "text": [
      "ITERATIONS=0:  30%|███       | 77/256 [2:29:16<6:28:16, 130.15s/it]"
     ]
    },
    {
     "name": "stdout",
     "output_type": "stream",
     "text": [
      "Time taken for 125.79436135292053 \n",
      "iter:  77\n",
      "sample_neg\n"
     ]
    },
    {
     "name": "stderr",
     "output_type": "stream",
     "text": [
      "ITERATIONS=0:  30%|███       | 78/256 [2:31:11<6:12:33, 125.58s/it]"
     ]
    },
    {
     "name": "stdout",
     "output_type": "stream",
     "text": [
      "Time taken for 114.92496705055237 \n",
      "iter:  78\n",
      "sample_neg\n"
     ]
    },
    {
     "name": "stderr",
     "output_type": "stream",
     "text": [
      "ITERATIONS=0:  31%|███       | 79/256 [2:33:12<6:06:37, 124.28s/it]"
     ]
    },
    {
     "name": "stdout",
     "output_type": "stream",
     "text": [
      "Time taken for 121.25332379341125 \n",
      "iter:  79\n",
      "sample_neg\n"
     ]
    },
    {
     "name": "stderr",
     "output_type": "stream",
     "text": [
      "ITERATIONS=0:  31%|███▏      | 80/256 [2:35:16<6:04:21, 124.21s/it]"
     ]
    },
    {
     "name": "stdout",
     "output_type": "stream",
     "text": [
      "Time taken for 124.0469822883606 \n",
      "iter:  80\n",
      "sample_neg\n",
      "get_neg\n"
     ]
    },
    {
     "name": "stderr",
     "output_type": "stream",
     "text": [
      "ITERATIONS=0:  32%|███▏      | 81/256 [2:39:04<7:32:43, 155.22s/it]"
     ]
    },
    {
     "name": "stdout",
     "output_type": "stream",
     "text": [
      "[Iteration 80/256] train_loss: -0.69395, val_loss: -0.63693, val_recall@20: 0.0061, val_precision@20: 0.00317, val_ndcg@20: 0.00455\n",
      "Time taken for 227.56487035751343 \n",
      "iter:  81\n",
      "sample_neg\n"
     ]
    },
    {
     "name": "stderr",
     "output_type": "stream",
     "text": [
      "ITERATIONS=0:  32%|███▏      | 82/256 [2:41:01<6:57:00, 143.80s/it]"
     ]
    },
    {
     "name": "stdout",
     "output_type": "stream",
     "text": [
      "Time taken for 117.14409160614014 \n",
      "iter:  82\n",
      "sample_neg\n"
     ]
    },
    {
     "name": "stderr",
     "output_type": "stream",
     "text": [
      "ITERATIONS=0:  32%|███▏      | 83/256 [2:43:07<6:38:57, 138.37s/it]"
     ]
    },
    {
     "name": "stdout",
     "output_type": "stream",
     "text": [
      "Time taken for 125.70948100090027 \n",
      "iter:  83\n",
      "sample_neg\n"
     ]
    },
    {
     "name": "stderr",
     "output_type": "stream",
     "text": [
      "ITERATIONS=0:  33%|███▎      | 84/256 [2:45:13<6:26:31, 134.83s/it]"
     ]
    },
    {
     "name": "stdout",
     "output_type": "stream",
     "text": [
      "Time taken for 126.5772967338562 \n",
      "iter:  84\n",
      "sample_neg\n"
     ]
    },
    {
     "name": "stderr",
     "output_type": "stream",
     "text": [
      "ITERATIONS=0:  33%|███▎      | 85/256 [2:46:54<5:54:50, 124.50s/it]"
     ]
    },
    {
     "name": "stdout",
     "output_type": "stream",
     "text": [
      "Time taken for 100.40097093582153 \n",
      "iter:  85\n",
      "sample_neg\n"
     ]
    },
    {
     "name": "stderr",
     "output_type": "stream",
     "text": [
      "ITERATIONS=0:  34%|███▎      | 86/256 [2:48:33<5:31:16, 116.92s/it]"
     ]
    },
    {
     "name": "stdout",
     "output_type": "stream",
     "text": [
      "Time taken for 99.23041772842407 \n",
      "iter:  86\n",
      "sample_neg\n"
     ]
    },
    {
     "name": "stderr",
     "output_type": "stream",
     "text": [
      "ITERATIONS=0:  34%|███▍      | 87/256 [2:50:13<5:15:27, 112.00s/it]"
     ]
    },
    {
     "name": "stdout",
     "output_type": "stream",
     "text": [
      "Time taken for 100.51111245155334 \n",
      "iter:  87\n",
      "sample_neg\n"
     ]
    },
    {
     "name": "stderr",
     "output_type": "stream",
     "text": [
      "ITERATIONS=0:  34%|███▍      | 88/256 [2:52:02<5:10:54, 111.04s/it]"
     ]
    },
    {
     "name": "stdout",
     "output_type": "stream",
     "text": [
      "Time taken for 108.79331684112549 \n",
      "iter:  88\n",
      "sample_neg\n",
      "get_neg\n"
     ]
    },
    {
     "name": "stderr",
     "output_type": "stream",
     "text": [
      "ITERATIONS=0:  35%|███▍      | 89/256 [2:56:12<7:05:09, 152.75s/it]"
     ]
    },
    {
     "name": "stdout",
     "output_type": "stream",
     "text": [
      "[Iteration 88/256] train_loss: -0.69341, val_loss: -0.63677, val_recall@20: 0.00606, val_precision@20: 0.00314, val_ndcg@20: 0.00451\n",
      "Time taken for 250.07357716560364 \n",
      "iter:  89\n",
      "sample_neg\n"
     ]
    },
    {
     "name": "stderr",
     "output_type": "stream",
     "text": [
      "ITERATIONS=0:  35%|███▍      | 89/256 [2:57:25<5:32:54, 119.61s/it]\n"
     ]
    },
    {
     "ename": "KeyboardInterrupt",
     "evalue": "",
     "output_type": "error",
     "traceback": [
      "\u001b[1;31m---------------------------------------------------------------------------\u001b[0m",
      "\u001b[1;31mKeyboardInterrupt\u001b[0m                         Traceback (most recent call last)",
      "Cell \u001b[1;32mIn[35], line 13\u001b[0m\n\u001b[0;32m     10\u001b[0m users_emb_final, users_emb_0, items_emb_final, items_emb_0 \u001b[38;5;241m=\u001b[39m model\u001b[38;5;241m.\u001b[39mforward(\n\u001b[0;32m     11\u001b[0m     train_sparse_edge_index)\n\u001b[0;32m     12\u001b[0m \u001b[38;5;66;03m# mini batching\u001b[39;00m\n\u001b[1;32m---> 13\u001b[0m user_indices, pos_item_indices, neg_item_indices \u001b[38;5;241m=\u001b[39m \u001b[43msample_neg\u001b[49m\u001b[43m(\u001b[49m\u001b[43mBATCH_SIZE\u001b[49m\u001b[43m,\u001b[49m\u001b[43m \u001b[49m\u001b[43mtrain_edge_index\u001b[49m\u001b[43m)\u001b[49m\n\u001b[0;32m     14\u001b[0m user_indices, pos_item_indices, neg_item_indices \u001b[38;5;241m=\u001b[39m user_indices\u001b[38;5;241m.\u001b[39mto(device), pos_item_indices\u001b[38;5;241m.\u001b[39mto(device),neg_item_indices\u001b[38;5;241m.\u001b[39mto(device)\n\u001b[0;32m     15\u001b[0m users_emb_final, users_emb_0 \u001b[38;5;241m=\u001b[39m users_emb_final[user_indices], users_emb_0[user_indices]\n",
      "Cell \u001b[1;32mIn[17], line 10\u001b[0m, in \u001b[0;36msample_neg\u001b[1;34m(batch_size, edge_index)\u001b[0m\n\u001b[0;32m      8\u001b[0m \u001b[38;5;28;01mfor\u001b[39;00m i \u001b[38;5;129;01min\u001b[39;00m \u001b[38;5;28mrange\u001b[39m(num_nodes):\n\u001b[0;32m      9\u001b[0m     random_index \u001b[38;5;241m=\u001b[39m torch\u001b[38;5;241m.\u001b[39mrandint(\u001b[38;5;241m0\u001b[39m, edge_index\u001b[38;5;241m.\u001b[39msize(\u001b[38;5;241m1\u001b[39m), (\u001b[38;5;241m1\u001b[39m,), device\u001b[38;5;241m=\u001b[39mdevice)\n\u001b[1;32m---> 10\u001b[0m     \u001b[38;5;28;01mwhile\u001b[39;00m random_index\u001b[38;5;241m.\u001b[39mitem() \u001b[38;5;241m==\u001b[39m \u001b[43medge_index\u001b[49m\u001b[43m[\u001b[49m\u001b[38;5;241;43m1\u001b[39;49m\u001b[43m,\u001b[49m\u001b[43m \u001b[49m\u001b[43mi\u001b[49m\u001b[43m]\u001b[49m\u001b[38;5;241;43m.\u001b[39;49m\u001b[43mitem\u001b[49m\u001b[43m(\u001b[49m\u001b[43m)\u001b[49m:\n\u001b[0;32m     11\u001b[0m         random_index \u001b[38;5;241m=\u001b[39m torch\u001b[38;5;241m.\u001b[39mrandint(\u001b[38;5;241m0\u001b[39m, edge_index\u001b[38;5;241m.\u001b[39msize(\u001b[38;5;241m1\u001b[39m), (\u001b[38;5;241m1\u001b[39m,), device\u001b[38;5;241m=\u001b[39mdevice)\n\u001b[0;32m     12\u001b[0m     random_element \u001b[38;5;241m=\u001b[39m edge_index[\u001b[38;5;241m1\u001b[39m, random_index]\n",
      "\u001b[1;31mKeyboardInterrupt\u001b[0m: "
     ]
    }
   ],
   "source": [
    "\n",
    "train_losses = []\n",
    "val_losses = []\n",
    "import os\n",
    "os.environ['CUDA_LAUNCH_BLOCKING'] = '1'\n",
    " \n",
    "for iter in trange(ITERATIONS,desc=f\"ITERATIONS={iter}\"):\n",
    "    time_start = time.time()\n",
    "    print(\"iter: \",iter)\n",
    "    # forward propagation\n",
    "    users_emb_final, users_emb_0, items_emb_final, items_emb_0 = model.forward(\n",
    "        train_sparse_edge_index)\n",
    "    # mini batching\n",
    "    user_indices, pos_item_indices, neg_item_indices = sample_neg(BATCH_SIZE, train_edge_index)\n",
    "    user_indices, pos_item_indices, neg_item_indices = user_indices.to(device), pos_item_indices.to(device),neg_item_indices.to(device)\n",
    "    users_emb_final, users_emb_0 = users_emb_final[user_indices], users_emb_0[user_indices]\n",
    "    pos_items_emb_final, pos_items_emb_0 = items_emb_final[pos_item_indices], items_emb_0[pos_item_indices]\n",
    "    neg_items_emb_final, neg_items_emb_0 = items_emb_final[neg_item_indices], items_emb_0[neg_item_indices]\n",
    " \n",
    "    # loss computation\n",
    "    train_loss = bpr_loss(users_emb_final, users_emb_0, pos_items_emb_final,\n",
    "                          pos_items_emb_0, neg_items_emb_final, neg_items_emb_0, LAMBDA)\n",
    " \n",
    "    optimizer.zero_grad()\n",
    "    train_loss.backward()\n",
    "    optimizer.step()\n",
    " \n",
    "    if iter % ITERS_PER_EVAL == 0:\n",
    "        model.eval()\n",
    "        val_loss, recall, precision, ndcg = evaluation(\n",
    "            model, val_edge_index, val_sparse_edge_index, [train_edge_index], K, LAMBDA)\n",
    "        print(f\"[Iteration {iter}/{ITERATIONS}] train_loss: {round(train_loss.item(), 5)}, val_loss: {round(val_loss, 5)}, val_recall@{K}: {round(recall, 5)}, val_precision@{K}: {round(precision, 5)}, val_ndcg@{K}: {round(ndcg, 5)}\")\n",
    "        train_losses.append(train_loss.item())\n",
    "        val_losses.append(val_loss)\n",
    "        model.train()\n",
    " \n",
    "    if iter % ITERS_PER_LR_DECAY == 0 and iter != 0:\n",
    "        scheduler.step()\n",
    "    time_end = time.time()\n",
    "    print(f\"Time taken for {time_end - time_start} \")\n"
   ]
  },
  {
   "cell_type": "code",
   "execution_count": 36,
   "id": "ff1491700800b41e",
   "metadata": {
    "ExecuteTime": {
     "end_time": "2024-11-22T10:48:08.395111Z",
     "start_time": "2024-11-22T10:48:08.050463Z"
    }
   },
   "outputs": [
    {
     "data": {
      "image/png": "[encoded data removed]",
      "text/plain": [
       "<Figure size 640x480 with 1 Axes>"
      ]
     },
     "metadata": {},
     "output_type": "display_data"
    }
   ],
   "source": [
    "\n",
    "iters = [iter * ITERS_PER_EVAL for iter in range(len(train_losses))]\n",
    "plt.plot(iters, train_losses, label='train')\n",
    "plt.plot(iters, val_losses, label='validation')\n",
    "plt.xlabel('iteration')\n",
    "plt.ylabel('loss')\n",
    "plt.title('training and validation loss curves')\n",
    "plt.legend()\n",
    "plt.show()"
   ]
  }
 ],
 "metadata": {
  "kernelspec": {
   "display_name": "myproject_pytorch",
   "language": "python",
   "name": "python3"
  },
  "language_info": {
   "codemirror_mode": {
    "name": "ipython",
    "version": 3
   },
   "file_extension": ".py",
   "mimetype": "text/x-python",
   "name": "python",
   "nbconvert_exporter": "python",
   "pygments_lexer": "ipython3",
   "version": "3.8.20"
  }
 },
 "nbformat": 4,
 "nbformat_minor": 5
}
