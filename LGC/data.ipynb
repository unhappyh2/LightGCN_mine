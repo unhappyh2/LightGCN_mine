{
 "cells": [
  {
   "cell_type": "code",
   "execution_count": null,
   "id": "initial_id",
   "metadata": {
    "collapsed": true
   },
   "outputs": [],
   "source": [
    ""
   ]
  },
  {
   "metadata": {
    "ExecuteTime": {
     "end_time": "2024-11-21T07:55:35.328095Z",
     "start_time": "2024-11-21T07:55:34.676409Z"
    }
   },
   "cell_type": "code",
   "source": [
    "\n",
    "import pandas as pd\n",
    "import csv\n",
    "movie_path = '../data/ml-1m/movies.dat'\n",
    "rating_path = '../data/ml-1m/ratings.dat'\n",
    "\n",
    "with open(rating_path, 'r',encoding='utf-8') as file:\n",
    "    content = file.read()"
   ],
   "id": "bf0fe6580b06ff66",
   "outputs": [],
   "execution_count": 1
  },
  {
   "metadata": {
    "ExecuteTime": {
     "end_time": "2024-11-21T08:01:59.042105Z",
     "start_time": "2024-11-21T08:01:57.780964Z"
    }
   },
   "cell_type": "code",
   "source": [
    "def convert_dat_to_csv(dat_data, csv_file_path):\n",
    "    \"\"\"\n",
    "    Converts dat format data to CSV format.\n",
    "    \n",
    "    Args:\n",
    "        dat_data (str): The content of the dat file as a string.\n",
    "        csv_file_path (str): The path where the CSV file will be saved.\n",
    "    \"\"\"\n",
    "    # 分割数据为行\n",
    "    lines = dat_data.strip().split('\\n')\n",
    "    \n",
    "    # 创建CSV文件并写入数据\n",
    "    with open(csv_file_path, 'w', newline='', encoding='utf-8') as csv_file:\n",
    "        writer = csv.writer(csv_file)\n",
    "        \n",
    "        # 写入标题行\n",
    "        writer.writerow(['userId', 'movieId', 'rating', 'timestamp'])\n",
    "        \n",
    "        # 遍历每一行数据\n",
    "        for line in lines:\n",
    "            if line.strip():  # 确保不处理空行\n",
    "                # 分割每行为movieId, title, genres\n",
    "                parts = line.split('::')\n",
    "                if len(parts) == 4:\n",
    "                    userId, movieId, rating, timestamp = parts\n",
    "                    writer.writerow([userId, movieId, rating, timestamp])\n",
    "    \n",
    "convert_dat_to_csv(content, 'ratings.csv')\n",
    "#print(content)\n"
   ],
   "id": "364616b0e9b73246",
   "outputs": [],
   "execution_count": 4
  }
 ],
 "metadata": {
  "kernelspec": {
   "display_name": "Python 3",
   "language": "python",
   "name": "python3"
  },
  "language_info": {
   "codemirror_mode": {
    "name": "ipython",
    "version": 2
   },
   "file_extension": ".py",
   "mimetype": "text/x-python",
   "name": "python",
   "nbconvert_exporter": "python",
   "pygments_lexer": "ipython2",
   "version": "2.7.6"
  }
 },
 "nbformat": 4,
 "nbformat_minor": 5
}
